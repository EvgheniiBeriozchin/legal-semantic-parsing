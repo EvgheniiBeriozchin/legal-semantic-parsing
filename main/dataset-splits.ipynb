{
 "cells": [
  {
   "cell_type": "code",
   "execution_count": 1,
   "id": "d87ab8f7",
   "metadata": {},
   "outputs": [],
   "source": [
    "import pandas as pd\n",
    "import pickle\n",
    "from pymongo import MongoClient\n",
    "\n",
    "db = MongoClient('localhost', 27017)['lsp_data']\n",
    "col = db[\"conclusion_items_v3\"]"
   ]
  },
  {
   "cell_type": "code",
   "execution_count": 2,
   "id": "051b81a7",
   "metadata": {},
   "outputs": [],
   "source": [
    "PATH = \"dataset_splits/\""
   ]
  },
  {
   "cell_type": "code",
   "execution_count": 3,
   "id": "4b867047",
   "metadata": {},
   "outputs": [],
   "source": [
    "def add_point(lst, item):\n",
    "    text = item[\"text\"].strip()\n",
    "    text = \"The Court \" + text[0].lower() + text[1:]\n",
    "    lst.append({\"text\": text, \"logical_form\": item[\"logical_form\"]})\n",
    "    \n",
    "    return lst"
   ]
  },
  {
   "cell_type": "code",
   "execution_count": 4,
   "id": "933d65a2",
   "metadata": {},
   "outputs": [
    {
     "name": "stdout",
     "output_type": "stream",
     "text": [
      "0: Holds that there has been a violation of Article 6 § 1 of the Convention;\n",
      "1: Holds that the finding of a violation of Article 5 § 3 constitutes in itself sufficient just satisfaction for the non-pecuniary damage sustained by the applicant\n",
      "2: Holds that simple interest at an annual rate of 4,26 % shall be payable from the expiry of the above-mentioned three months until settlement\n",
      "3: Holds that from the expiry of the above-mentioned three months until settlement, simple interest shall be payable on the above amounts at a rate equal to the marginal lending rate of the European Central Bank during the default period, plus three percentage points\n",
      "4: Holds that there is no need to examine separately the complaint under Article 1 of Protocol No. 1 to the Convention\n",
      "5: Holds that the respondent State is to pay the applicant, within three months from the date on which the judgment becomes final in accordance with Article 44 § 2 of the Convention, EUR 5,000 (five thousand euros) in respect of non-pecuniary damage, to be converted into Polish zlotys at the rate applicable at the date of settlement, plus any tax that may be chargeable\n",
      "6: Declares the applications inadmissible\n",
      "7: Declares the application admissible\n",
      "8: Dismisses unanimously the remainder of the applicants' claims for just satisfaction.\n"
     ]
    }
   ],
   "source": [
    "for i in range(9):\n",
    "    items_cursor = col.find({\"type\": i}).limit(1)\n",
    "    print(str(i) + \": \" + items_cursor[0][\"text\"])"
   ]
  },
  {
   "cell_type": "markdown",
   "id": "a5b81b83",
   "metadata": {},
   "source": [
    "## Dataset 1"
   ]
  },
  {
   "cell_type": "code",
   "execution_count": 29,
   "id": "491d4c6e",
   "metadata": {},
   "outputs": [],
   "source": [
    "train = []\n",
    "test = [] "
   ]
  },
  {
   "cell_type": "code",
   "execution_count": 30,
   "id": "e4ab33d9",
   "metadata": {},
   "outputs": [
    {
     "name": "stdout",
     "output_type": "stream",
     "text": [
      "112\n",
      "63\n"
     ]
    }
   ],
   "source": [
    "items_cursor = col.find({\"type\": 0})\n",
    "for item in items_cursor:\n",
    "    if \"Protocol\" in item[\"text\"]:\n",
    "        add_point(test, item)\n",
    "    else:\n",
    "        add_point(train, item)\n",
    "        \n",
    "print(len(train))\n",
    "print(len(test))"
   ]
  },
  {
   "cell_type": "code",
   "execution_count": 31,
   "id": "d9bb7a4e",
   "metadata": {},
   "outputs": [
    {
     "name": "stdout",
     "output_type": "stream",
     "text": [
      "122\n",
      "65\n"
     ]
    }
   ],
   "source": [
    "items_cursor = col.find({\"type\": 1})\n",
    "for item in items_cursor:\n",
    "    if \"Article\" in item[\"text\"]:\n",
    "        add_point(test, item)\n",
    "    else:\n",
    "        add_point(train, item)\n",
    "        \n",
    "print(len(train))\n",
    "print(len(test))"
   ]
  },
  {
   "cell_type": "code",
   "execution_count": 32,
   "id": "7ea0ebbe",
   "metadata": {},
   "outputs": [
    {
     "name": "stdout",
     "output_type": "stream",
     "text": [
      "173\n",
      "70\n"
     ]
    }
   ],
   "source": [
    "items_cursor = col.find({\"type\": 2})\n",
    "for item in items_cursor:\n",
    "    if \"sums\" in item[\"text\"]:\n",
    "        add_point(test, item)\n",
    "    else:\n",
    "        add_point(train, item)\n",
    "        \n",
    "print(len(train))\n",
    "print(len(test))"
   ]
  },
  {
   "cell_type": "code",
   "execution_count": 33,
   "id": "04fea2dd",
   "metadata": {},
   "outputs": [
    {
     "name": "stdout",
     "output_type": "stream",
     "text": [
      "200\n",
      "70\n"
     ]
    }
   ],
   "source": [
    "items_cursor = col.find({\"type\": 3})\n",
    "for item in items_cursor:\n",
    "        add_point(train, item)\n",
    "        \n",
    "print(len(train))\n",
    "print(len(test))"
   ]
  },
  {
   "cell_type": "code",
   "execution_count": 34,
   "id": "dcfa3d15",
   "metadata": {},
   "outputs": [
    {
     "name": "stdout",
     "output_type": "stream",
     "text": [
      "438\n",
      "159\n"
     ]
    }
   ],
   "source": [
    "items_cursor = col.find({\"type\": 4})\n",
    "for item in items_cursor:\n",
    "    if \"§\" in item[\"text\"]:\n",
    "        add_point(test, item)\n",
    "    else:\n",
    "        add_point(train, item)\n",
    "        \n",
    "print(len(train))\n",
    "print(len(test))"
   ]
  },
  {
   "cell_type": "code",
   "execution_count": 35,
   "id": "640ee5dd",
   "metadata": {},
   "outputs": [
    {
     "name": "stdout",
     "output_type": "stream",
     "text": [
      "2695\n",
      "203\n"
     ]
    }
   ],
   "source": [
    "items_cursor = col.find({\"type\": 5})\n",
    "count = 0\n",
    "for item in items_cursor:\n",
    "    if \"of pecuniary and non-pecuniary\" in item[\"text\"] or \"of pecuniary and nonpecuniary\" in item[\"text\"]:\n",
    "        add_point(test, item)\n",
    "    else:\n",
    "        add_point(train, item)\n",
    "        \n",
    "print(len(train))\n",
    "print(len(test))"
   ]
  },
  {
   "cell_type": "code",
   "execution_count": 36,
   "id": "5382f8b7",
   "metadata": {},
   "outputs": [
    {
     "name": "stdout",
     "output_type": "stream",
     "text": [
      "2696\n",
      "203\n"
     ]
    }
   ],
   "source": [
    "items_cursor = col.find({\"type\": 6})\n",
    "for item in items_cursor:\n",
    "        add_point(train, item)\n",
    "        \n",
    "print(len(train))\n",
    "print(len(test))"
   ]
  },
  {
   "cell_type": "code",
   "execution_count": 37,
   "id": "d63cdcd7",
   "metadata": {},
   "outputs": [
    {
     "name": "stdout",
     "output_type": "stream",
     "text": [
      "2705\n",
      "203\n"
     ]
    }
   ],
   "source": [
    "items_cursor = col.find({\"type\": 7})\n",
    "for item in items_cursor:\n",
    "        add_point(train, item)\n",
    "        \n",
    "print(len(train))\n",
    "print(len(test))"
   ]
  },
  {
   "cell_type": "code",
   "execution_count": 38,
   "id": "ccbc0d42",
   "metadata": {},
   "outputs": [
    {
     "name": "stdout",
     "output_type": "stream",
     "text": [
      "2710\n",
      "236\n"
     ]
    }
   ],
   "source": [
    "items_cursor = col.find({\"type\": 8})\n",
    "for item in items_cursor:\n",
    "    if \"applicant\" in item[\"text\"]:\n",
    "        add_point(test, item)\n",
    "    else:\n",
    "        add_point(train, item)\n",
    "        \n",
    "print(len(train))\n",
    "print(len(test))"
   ]
  },
  {
   "cell_type": "code",
   "execution_count": 42,
   "id": "8721a1f0",
   "metadata": {},
   "outputs": [],
   "source": [
    "with open(PATH + \"dataset_split_1\", \"wb\") as f:\n",
    "    pickle.dump((train, test), f)"
   ]
  },
  {
   "cell_type": "markdown",
   "id": "5ac388ab",
   "metadata": {},
   "source": [
    "## Dataset 2"
   ]
  },
  {
   "cell_type": "code",
   "execution_count": 40,
   "id": "34134dea",
   "metadata": {},
   "outputs": [],
   "source": [
    "train = []\n",
    "test = [] "
   ]
  },
  {
   "cell_type": "code",
   "execution_count": 41,
   "id": "7aefb36a",
   "metadata": {},
   "outputs": [],
   "source": [
    "items_cursor = col.find({\"logical_form\": {\"$exists\": True}})\n",
    "lengths = []\n",
    "for item in items_cursor:\n",
    "    lengths.append(item[\"logical_form\"].count(\"^\") + item[\"logical_form\"].count(\"->\") + 1)"
   ]
  },
  {
   "cell_type": "code",
   "execution_count": 51,
   "id": "5e05f833",
   "metadata": {},
   "outputs": [
    {
     "data": {
      "text/plain": [
       "15.0"
      ]
     },
     "execution_count": 51,
     "metadata": {},
     "output_type": "execute_result"
    }
   ],
   "source": [
    "import numpy as np\n",
    "percentile = np.percentile(lengths, 95)"
   ]
  },
  {
   "cell_type": "code",
   "execution_count": 21,
   "id": "d49eb2d7",
   "metadata": {},
   "outputs": [
    {
     "name": "stdout",
     "output_type": "stream",
     "text": [
      "2702\n",
      "244\n"
     ]
    }
   ],
   "source": [
    "items_cursor = col.find({\"logical_form\": {\"$exists\": True}})\n",
    "for item in items_cursor:\n",
    "    length = item[\"logical_form\"].count(\"^\") + item[\"logical_form\"].count(\"->\") + 1\n",
    "    if length >= percentile:\n",
    "        add_point(test, item)\n",
    "    else:\n",
    "        add_point(train, item)\n",
    "\n",
    "print(len(train))\n",
    "print(len(test))"
   ]
  },
  {
   "cell_type": "code",
   "execution_count": 22,
   "id": "9060ad3c",
   "metadata": {},
   "outputs": [],
   "source": [
    "with open(PATH + \"dataset_split_2\", \"wb\") as f:\n",
    "    pickle.dump((train, test), f)"
   ]
  },
  {
   "cell_type": "markdown",
   "id": "ea56e71b",
   "metadata": {},
   "source": [
    "## Dataset 3"
   ]
  },
  {
   "cell_type": "code",
   "execution_count": 30,
   "id": "11ddf925",
   "metadata": {},
   "outputs": [],
   "source": [
    "train = []\n",
    "test = []"
   ]
  },
  {
   "cell_type": "code",
   "execution_count": 31,
   "id": "b3c5fa97",
   "metadata": {},
   "outputs": [
    {
     "name": "stdout",
     "output_type": "stream",
     "text": [
      "1871\n",
      "430\n"
     ]
    }
   ],
   "source": [
    "import re\n",
    "\n",
    "conc_regex = re.compile(\n",
    "    \"\".join([\n",
    "        \"^holds that the respondent state is to pay(?: to)?(?: (?P<each>the|each)(?: of the)? applicant(?P<apps>s)?(?P<jointly>,? jointly)?)?,? within three months\",\n",
    "        \"(?:,? (?:of|from) the date(?P<judgement> on which the judgment becomes final| of the judgement))?(?:,)?\",\n",
    "        \"(?P<art>,? (?:in accordance with|according to) article 44 § 2 of the convention)?(?:,)?\",\n",
    "        \",?(?: the amount of)?(?:(?: | and |, )?(?:(?P<currency>\\w+)?(?: )?(?P<value>[\\d,\\. ]*)(?: (?P<each2>each))?(?: (?P<currency2>\\w+))?\",\n",
    "        \"(?: )?(?P<bracket>\\((?:[a-zA-Z]| |-|\\.)*\\))?(?P<each3> each| to each applicant)?\",\n",
    "        \"(?:(?:,? (?:in respect of|(?:in compensation )?for|on account of) (?:(?:and |, )?(?:the )?(?:(?P<pecand>pecuniary and )?(?P<nonpec>non)(?:-)?pecuniary damage(?P<nonsuf> suffered)?|(?P<pec>pecuniary) damage(?P<suf> suffered)?|(?P<costs>costs) and expenses)){1,3})|\",\n",
    "        \"(?P<vat>,? including vat)|\",\n",
    "        \"(?P<tax>,? (?:plus|together with) any tax that may be chargeable(?:(?P<amt>,? on (?:that|this|these|the above|the said) amount(?:s)?)|(?P<app2>,? to the applicant(?P<apps2>s)?)|(?P<himher>,? to (?:him|her|them))){0,2})|\",\n",
    "        \"(?P<convert>,?(?: which is| the said amount(?:s)?| which sum is| the above sum(?:s)?)?\",\n",
    "        \",? (?:to|which should) be converted into(?: )(?:(?:(?:the)?(?: )?(?P<natloc>national|local)?(?: )?currency(?: of (?P<state>the respondent state|\\w+))?)|(?:(?:the )?(?P<curr1>\\w+) (?P<curr2>\\w+)(?P<curr3> \\(\\w+\\))?,?))\",\n",
    "        \",? at (?:the|a) rate applicable (?:at|on) the(?: date of)?(?: the)? (?P<setpay>settlement|payment))\",\n",
    "        \"){0,4}))\",\n",
    "        \"(?P<second>(?: | and |, )?(?:(?P<currencyA>\\w+)? (?P<valueA>[\\d,\\. ]*)(?: (?P<each2A>each))?(?: (?P<currency2A>\\w+))?\",\n",
    "        \"(?: )?(?P<bracketA>\\((?:[a-zA-Z]| |-|\\.)*\\))?(?P<each3A> each| to each applicant)?\",\n",
    "        \"(?:(?:,? (?:in respect of|(?:in compensation )?for|on account of) (?:(?:and |, )?(?:the )?(?:(?P<pecandA>pecuniary and )?(?P<nonpecA>non)(?:-)?pecuniary damage(?P<nonsufA> suffered)?|(?P<pecA>pecuniary) damage(?P<sufA> suffered)?|(?P<costsA>costs) and expenses)){1,3})|\",\n",
    "        \"(?P<vatA>,? including vat)|\",\n",
    "        \"(?P<taxA>,? (?:plus|together with) any tax that may be chargeable(?:(?P<amtA>,? on (?:that|this|these|the above|the said) amount(?:s)?)|(?P<app2A>,? to the applicant(?P<apps2A>s)?)|(?P<himherA>,? to (?:him|her|them))){0,2})|\",\n",
    "        \"(?P<convertA>,?(?: which is| the said amount(?:s)?| which sum is| the above sum(?:s)?)?\",\n",
    "        \",? (?:to|which should) be converted into(?: )?(?:(?:(?:the)?(?: )?(?P<natlocA>national|local)?(?: )?currency(?: of (?P<stateA>the respondent state|\\w+))?)|(?:(?:the )?(?P<curr1A>\\w+) (?P<curr2A>\\w+)(?P<curr3A> \\(\\w+\\))?,?))\",\n",
    "        \",? at (?:the|a) rate applicable (?:at|fon) the(?: date of)?(?: the)? (?P<setpayA>settlement|payment))\",\n",
    "        \"){0,4}))?\",\n",
    "        \"(?:\\.)?$\",\n",
    "    ]))\n",
    "\n",
    "\n",
    "c = 0\n",
    "items_cursor = col.find({\"type\": 5})\n",
    "for item in items_cursor:\n",
    "    m = conc_regex.match(item[\"text\"].lower())\n",
    "    if m is not None and m.groupdict()[\"second\"] is not None:\n",
    "        add_point(test, item)\n",
    "    else:\n",
    "        add_point(train, item)\n",
    "        \n",
    "print(len(train))\n",
    "print(len(test))"
   ]
  },
  {
   "cell_type": "code",
   "execution_count": 32,
   "id": "3f29b2d1",
   "metadata": {},
   "outputs": [
    {
     "name": "stdout",
     "output_type": "stream",
     "text": [
      "2069\n",
      "559\n"
     ]
    }
   ],
   "source": [
    "conc_regex = re.compile(\n",
    "    \"\".join([\n",
    "        \"^Holds that (?:there is no need|it is not necessary) to (?:examine|consider)( separately)?( at this stage)?\",\n",
    "        \" the( merits of the)? (applicant(?:'|’)s |applicants(?:'|’)? )?(complaint|(?:remaining |remainder of the )?complaints)\",\n",
    "        \"( (?:under|based on)(?:(?P<and> and| taken together with| taken in conjunction with)? Article(?:s)?(?:(?P<and2> | (?:and) |, )(?:\\d+)(?: §+ \\d+)?){1,5}(?: of Protocol No.(?: )?(?:\\d+))?(?: (?:of|to) the Convention)?){1,5})?\",\n",
    "        \"(?:\\.|;)?$\"\n",
    "    ]))\n",
    "\n",
    "c = 0\n",
    "items_cursor = col.find({\"type\": 4})\n",
    "for item in items_cursor:\n",
    "    m = conc_regex.match(item[\"text\"])\n",
    "    if m is not None and (m.groupdict()[\"and\"] is not None or (m.groupdict()[\"and2\"] is not None and m.groupdict()[\"and2\"] != \" \")):\n",
    "        add_point(test, item)\n",
    "    else:\n",
    "        add_point(train, item)\n",
    "        \n",
    "print(len(train))\n",
    "print(len(test))"
   ]
  },
  {
   "cell_type": "code",
   "execution_count": 34,
   "id": "e13c0099",
   "metadata": {},
   "outputs": [
    {
     "name": "stdout",
     "output_type": "stream",
     "text": [
      "2387\n",
      "559\n"
     ]
    }
   ],
   "source": [
    "for i in list(range(4)) + list(range(6, 9)):\n",
    "    items_cursor = col.find({\"type\": i})\n",
    "    for item in items_cursor:\n",
    "        add_point(train, item)\n",
    "        \n",
    "print(len(train))\n",
    "print(len(test))"
   ]
  },
  {
   "cell_type": "code",
   "execution_count": 36,
   "id": "f773c00b",
   "metadata": {},
   "outputs": [],
   "source": [
    "with open(PATH + \"dataset_split_3\", \"wb\") as f:\n",
    "    pickle.dump((train, test), f)"
   ]
  },
  {
   "cell_type": "markdown",
   "id": "adda672d",
   "metadata": {},
   "source": [
    "## Dataset 4"
   ]
  },
  {
   "cell_type": "code",
   "execution_count": 37,
   "id": "c42d87bb",
   "metadata": {},
   "outputs": [],
   "source": [
    "train = []\n",
    "test = []"
   ]
  },
  {
   "cell_type": "code",
   "execution_count": 38,
   "id": "81f61eba",
   "metadata": {},
   "outputs": [
    {
     "name": "stdout",
     "output_type": "stream",
     "text": [
      "2813\n",
      "133\n"
     ]
    }
   ],
   "source": [
    "for i in [1, 2, 3, 8]:\n",
    "    items_cursor = col.find({\"type\": i})\n",
    "    for item in items_cursor:\n",
    "        add_point(test, item)\n",
    "        \n",
    "for i in [0, 4, 5, 6, 7]:\n",
    "    items_cursor = col.find({\"type\": i})\n",
    "    for item in items_cursor:\n",
    "        add_point(train, item)\n",
    "        \n",
    "print(len(train))\n",
    "print(len(test))"
   ]
  },
  {
   "cell_type": "code",
   "execution_count": 39,
   "id": "58d2ff35",
   "metadata": {},
   "outputs": [],
   "source": [
    "with open(PATH + \"dataset_split_4\", \"wb\") as f:\n",
    "    pickle.dump((train, test), f)"
   ]
  },
  {
   "cell_type": "code",
   "execution_count": null,
   "id": "becb8f97",
   "metadata": {},
   "outputs": [],
   "source": []
  }
 ],
 "metadata": {
  "kernelspec": {
   "display_name": "juris-env",
   "language": "python",
   "name": "juris-env"
  },
  "language_info": {
   "codemirror_mode": {
    "name": "ipython",
    "version": 3
   },
   "file_extension": ".py",
   "mimetype": "text/x-python",
   "name": "python",
   "nbconvert_exporter": "python",
   "pygments_lexer": "ipython3",
   "version": "3.6.9"
  }
 },
 "nbformat": 4,
 "nbformat_minor": 5
}
