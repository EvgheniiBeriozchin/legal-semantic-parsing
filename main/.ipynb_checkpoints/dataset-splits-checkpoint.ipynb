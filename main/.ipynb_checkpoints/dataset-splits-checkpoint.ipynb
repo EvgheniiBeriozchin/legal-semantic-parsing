{
 "cells": [
  {
   "cell_type": "code",
   "execution_count": 1,
   "id": "d83990a4",
   "metadata": {},
   "outputs": [],
   "source": [
    "import pandas as pd\n",
    "import pickle\n",
    "from pymongo import MongoClient\n",
    "\n",
    "db = MongoClient('localhost', 27017)['lsp_data']\n",
    "col = db[\"conclusion_items_v3\"]"
   ]
  },
  {
   "cell_type": "code",
   "execution_count": 3,
   "id": "ed983134",
   "metadata": {},
   "outputs": [],
   "source": [
    "def add_point(lst, item):\n",
    "    text = item[\"text\"].strip()\n",
    "    text = \"The Court \" + text[0].lower() + text[1:]\n",
    "    lst.append({\"text\": text, \"logical_form\": item[\"logical_form\"]})\n",
    "    \n",
    "    return lst"
   ]
  },
  {
   "cell_type": "code",
   "execution_count": null,
   "id": "1af01c6e",
   "metadata": {},
   "outputs": [],
   "source": [
    "for i in range(9):\n",
    "    items_cursor = col.find({\"type\": i}).limit(1)\n",
    "    print(str(i) + \": \" + items_cursor[0][\"text\"])"
   ]
  },
  {
   "cell_type": "markdown",
   "id": "c64478e7",
   "metadata": {},
   "source": [
    "## Dataset 1"
   ]
  },
  {
   "cell_type": "code",
   "execution_count": 29,
   "id": "5e15819c",
   "metadata": {},
   "outputs": [],
   "source": [
    "train = []\n",
    "test = [] "
   ]
  },
  {
   "cell_type": "code",
   "execution_count": 30,
   "id": "cd17d210",
   "metadata": {},
   "outputs": [
    {
     "name": "stdout",
     "output_type": "stream",
     "text": [
      "112\n",
      "63\n"
     ]
    }
   ],
   "source": [
    "items_cursor = col.find({\"type\": 0})\n",
    "for item in items_cursor:\n",
    "    if \"Protocol\" in item[\"text\"]:\n",
    "        add_point(test, item)\n",
    "    else:\n",
    "        add_point(train, item)\n",
    "        \n",
    "print(len(train))\n",
    "print(len(test))"
   ]
  },
  {
   "cell_type": "code",
   "execution_count": 31,
   "id": "f637963f",
   "metadata": {},
   "outputs": [
    {
     "name": "stdout",
     "output_type": "stream",
     "text": [
      "122\n",
      "65\n"
     ]
    }
   ],
   "source": [
    "items_cursor = col.find({\"type\": 1})\n",
    "for item in items_cursor:\n",
    "    if \"Article\" in item[\"text\"]:\n",
    "        add_point(test, item)\n",
    "    else:\n",
    "        add_point(train, item)\n",
    "        \n",
    "print(len(train))\n",
    "print(len(test))"
   ]
  },
  {
   "cell_type": "code",
   "execution_count": 32,
   "id": "8dedff46",
   "metadata": {},
   "outputs": [
    {
     "name": "stdout",
     "output_type": "stream",
     "text": [
      "173\n",
      "70\n"
     ]
    }
   ],
   "source": [
    "items_cursor = col.find({\"type\": 2})\n",
    "for item in items_cursor:\n",
    "    if \"sums\" in item[\"text\"]:\n",
    "        add_point(test, item)\n",
    "    else:\n",
    "        add_point(train, item)\n",
    "        \n",
    "print(len(train))\n",
    "print(len(test))"
   ]
  },
  {
   "cell_type": "code",
   "execution_count": 33,
   "id": "9a654e4f",
   "metadata": {},
   "outputs": [
    {
     "name": "stdout",
     "output_type": "stream",
     "text": [
      "200\n",
      "70\n"
     ]
    }
   ],
   "source": [
    "items_cursor = col.find({\"type\": 3})\n",
    "for item in items_cursor:\n",
    "        add_point(train, item)\n",
    "        \n",
    "print(len(train))\n",
    "print(len(test))"
   ]
  },
  {
   "cell_type": "code",
   "execution_count": 34,
   "id": "e32300c9",
   "metadata": {},
   "outputs": [
    {
     "name": "stdout",
     "output_type": "stream",
     "text": [
      "438\n",
      "159\n"
     ]
    }
   ],
   "source": [
    "items_cursor = col.find({\"type\": 4})\n",
    "for item in items_cursor:\n",
    "    if \"§\" in item[\"text\"]:\n",
    "        add_point(test, item)\n",
    "    else:\n",
    "        add_point(train, item)\n",
    "        \n",
    "print(len(train))\n",
    "print(len(test))"
   ]
  },
  {
   "cell_type": "code",
   "execution_count": 35,
   "id": "788184ec",
   "metadata": {},
   "outputs": [
    {
     "name": "stdout",
     "output_type": "stream",
     "text": [
      "2695\n",
      "203\n"
     ]
    }
   ],
   "source": [
    "items_cursor = col.find({\"type\": 5})\n",
    "count = 0\n",
    "for item in items_cursor:\n",
    "    if \"of pecuniary and non-pecuniary\" in item[\"text\"] or \"of pecuniary and nonpecuniary\" in item[\"text\"]:\n",
    "        add_point(test, item)\n",
    "    else:\n",
    "        add_point(train, item)\n",
    "        \n",
    "print(len(train))\n",
    "print(len(test))"
   ]
  },
  {
   "cell_type": "code",
   "execution_count": 36,
   "id": "8da189c8",
   "metadata": {},
   "outputs": [
    {
     "name": "stdout",
     "output_type": "stream",
     "text": [
      "2696\n",
      "203\n"
     ]
    }
   ],
   "source": [
    "items_cursor = col.find({\"type\": 6})\n",
    "for item in items_cursor:\n",
    "        add_point(train, item)\n",
    "        \n",
    "print(len(train))\n",
    "print(len(test))"
   ]
  },
  {
   "cell_type": "code",
   "execution_count": 37,
   "id": "4c5a795b",
   "metadata": {},
   "outputs": [
    {
     "name": "stdout",
     "output_type": "stream",
     "text": [
      "2705\n",
      "203\n"
     ]
    }
   ],
   "source": [
    "items_cursor = col.find({\"type\": 7})\n",
    "for item in items_cursor:\n",
    "        add_point(train, item)\n",
    "        \n",
    "print(len(train))\n",
    "print(len(test))"
   ]
  },
  {
   "cell_type": "code",
   "execution_count": 38,
   "id": "9200ad1a",
   "metadata": {},
   "outputs": [
    {
     "name": "stdout",
     "output_type": "stream",
     "text": [
      "2710\n",
      "236\n"
     ]
    }
   ],
   "source": [
    "items_cursor = col.find({\"type\": 8})\n",
    "for item in items_cursor:\n",
    "    if \"applicant\" in item[\"text\"]:\n",
    "        add_point(test, item)\n",
    "    else:\n",
    "        add_point(train, item)\n",
    "        \n",
    "print(len(train))\n",
    "print(len(test))"
   ]
  },
  {
   "cell_type": "code",
   "execution_count": 39,
   "id": "d9041786",
   "metadata": {},
   "outputs": [],
   "source": [
    "with open(\"dataset_split_1\", \"wb\") as f:\n",
    "    pickle.dump((train, test), f)"
   ]
  },
  {
   "cell_type": "code",
   "execution_count": null,
   "id": "a8bb7df8",
   "metadata": {},
   "outputs": [],
   "source": []
  }
 ],
 "metadata": {
  "kernelspec": {
   "display_name": "juris-env",
   "language": "python",
   "name": "juris-env"
  },
  "language_info": {
   "codemirror_mode": {
    "name": "ipython",
    "version": 3
   },
   "file_extension": ".py",
   "mimetype": "text/x-python",
   "name": "python",
   "nbconvert_exporter": "python",
   "pygments_lexer": "ipython3",
   "version": "3.6.9"
  }
 },
 "nbformat": 4,
 "nbformat_minor": 5
}
