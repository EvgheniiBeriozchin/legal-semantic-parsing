{
 "cells": [
  {
   "cell_type": "code",
   "execution_count": 4,
   "metadata": {},
   "outputs": [],
   "source": [
    "SATOH_DATAPATH = './m_data/pair_synset_by_lesk.txt'\n",
    "with open(SATOH_DATAPATH, 'r') as datastream:\n",
    "        raw_data = datastream.readlines()\n",
    "\n",
    "x_data = []\n",
    "y_data = []\n",
    "for line in raw_data:\n",
    "    i = 0\n",
    "    indices = []\n",
    "    while len(indices) < 4:\n",
    "        i += line[i:].find(\"\\\"\") + 1\n",
    "        indices.append(i)\n",
    "\n",
    "    x_data.append(line[indices[2]:indices[3] - 1])\n",
    "    y_data.append(line[indices[0]:indices[1] - 1])"
   ]
  },
  {
   "cell_type": "code",
   "execution_count": 5,
   "metadata": {},
   "outputs": [],
   "source": [
    "types = dict()\n",
    "for point in y_data:\n",
    "    name = point[:point.find(\"(\")]\n",
    "    if name not in types:\n",
    "        types[name] = 1\n",
    "    else:\n",
    "        types[name] += 1"
   ]
  },
  {
   "cell_type": "code",
   "execution_count": 6,
   "metadata": {},
   "outputs": [
    {
     "data": {
      "text/plain": [
       "{\"'Automatic_Early_Termination_applies_to_for_of_Default'\": 24,\n",
       " 'of_Default_occurs_with_respect_to_at': 72,\n",
       " 'is_not_more_than_days_after': 54,\n",
       " 'gives_notice_to_at_that': 288,\n",
       " 'is_on_or_before': 156,\n",
       " 'designates_at_that': 36,\n",
       " 'the_Schedule_specifies_that': 4,\n",
       " 'it_is_permitted_that': 8,\n",
       " 'is_continuing_at': 18,\n",
       " 'occurs_at': 36,\n",
       " 'designates_by_at_that': 144,\n",
       " 'performs_at': 288,\n",
       " 'happens_at': 54,\n",
       " 'designates_that': 12,\n",
       " 'it_is_permitted_that_designates_by_at_that': 144,\n",
       " 'cures_the_failure_of_on_that': 432,\n",
       " 'pays_to_on': 1134,\n",
       " 'notifies_on_that': 378,\n",
       " 'fails_to_fulfil_that': 576,\n",
       " 'has_that': 168,\n",
       " 'defaults_on': 84,\n",
       " 'sets_up_for_to_pay_to_and_deduct': 864,\n",
       " 'has_for_to_pay_to_and_deduct': 864,\n",
       " 'of_has_been_paid_out_to': 72,\n",
       " 'pays_out_of_to': 216,\n",
       " 'pays_back_of_to': 108,\n",
       " 'has_paid_itself': 6,\n",
       " 'is_due_on_from_to': 1134,\n",
       " 'paid_to_on': 1134,\n",
       " 'it_is_the_end_of': 7,\n",
       " 'requested_on': 378,\n",
       " \"'represents_-_warrants'\": 36,\n",
       " 'pays_to': 162,\n",
       " 'notified_on': 147,\n",
       " 'is_the_total_due': 9,\n",
       " 'is_liable_to_litigation': 3,\n",
       " 'is_failure_to_perform': 6,\n",
       " 'is_different_from': 16,\n",
       " 'is_defaulted_on': 84,\n",
       " 'is_bankrupted_by_insolvency': 28,\n",
       " 'advanced_on': 189,\n",
       " 'end_of_the_world': 1,\n",
       " 'is_that': 8,\n",
       " 'is_proved_untrue': 6,\n",
       " 'is_potentially_defaulted': 5,\n",
       " 'is_interrupted_between_and': 144,\n",
       " 'terminates_at': 36,\n",
       " 'initiates_at': 36,\n",
       " 'holds_at': 3,\n",
       " 'is_a_partner_in_partnership_with_as_informed_by': 32,\n",
       " 'is_used_in_business_of_as_informed_by': 40,\n",
       " 'has_an_aggregated_turnover_of_as_informed_by': 72,\n",
       " 'is_ultimately_owned_by_with_at': 108,\n",
       " 'is_part_of_genuine_restructuring_as_informed_by': 6,\n",
       " 'is_of_asset_type_as_informed_by': 16,\n",
       " 'is_a_transfer_of_by_to': 72,\n",
       " 'is_a_small_business_entity_as_informed_by': 8,\n",
       " 'owns_at_as_informed_by': 216,\n",
       " 'is_connected_to_as_informed_by': 40,\n",
       " 'is_an_ultimate_owner_of_at': 60,\n",
       " 'has_affiliated_with_as_informed_by': 24,\n",
       " 'the_small_business_restructure_rollover_applies_to': 3,\n",
       " 'meets_the_ultimate_ownership_test_at': 36,\n",
       " 'has_a_share_in_at': 60,\n",
       " 'is_undertaken_as_part_of': 12,\n",
       " 'is_the_aggregated_turnover_of': 36,\n",
       " 'has_an_aggregated_turnover_of': 36,\n",
       " 'relates_to_a_family_group': 2,\n",
       " 'is_of_asset_type': 8,\n",
       " 'is_a_party_of': 12,\n",
       " 'is_a_member_of': 4,\n",
       " 'is_of_type': 8,\n",
       " 'is_an_eligible_party': 4,\n",
       " 'is_an_eligible_asset': 4,\n",
       " 'is_an_active_asset': 4,\n",
       " 'is_a_rollover_cost': 2,\n",
       " 'is_a_family_trust': 2,\n",
       " 'costs_at': 216,\n",
       " 'is_a_subset_of': 9,\n",
       " 'is_a_set': 4,\n",
       " 'belongs_to': 12,\n",
       " 'is_a_parent_of': 49,\n",
       " 'is_a_grandparent_of': 49}"
      ]
     },
     "execution_count": 6,
     "metadata": {},
     "output_type": "execute_result"
    }
   ],
   "source": [
    "types"
   ]
  },
  {
   "cell_type": "code",
   "execution_count": 5,
   "metadata": {},
   "outputs": [],
   "source": [
    "#CLEAN CHECKPOINTS\n",
    "import os\n",
    "for file in os.listdir(\"./models/facebook/bart-base-legal/\"):\n",
    "    nr = int(file.replace(\"checkpoint-\", \"\"))\n",
    "    if (nr % 5000 != 0 and nr != 44000):\n",
    "        !rm -r ./models/facebook/bart-base-legal/{file}"
   ]
  },
  {
   "cell_type": "code",
   "execution_count": 3,
   "metadata": {},
   "outputs": [
    {
     "data": {
      "text/plain": [
       "[]"
      ]
     },
     "execution_count": 3,
     "metadata": {},
     "output_type": "execute_result"
    }
   ],
   "source": [
    "import os\n",
    "os.listdir(\"./models/my_model_v1.0/\")"
   ]
  },
  {
   "cell_type": "code",
   "execution_count": null,
   "metadata": {},
   "outputs": [],
   "source": [
    "'designates_at_that': 12\n",
    "'is_a_party_of': 12,\n",
    "'is_a_member_of': 4,\n",
    "'is_a_small_business_entity_as_informed_by': 8,\n",
    "'it_is_the_end_of': 7,\n",
    "'has_paid_itself': 6,\n",
    "'end_of_the_world': 1,"
   ]
  },
  {
   "cell_type": "code",
   "execution_count": 1,
   "metadata": {},
   "outputs": [],
   "source": [
    "from utils import get_satoh_data_unseen, EXCLUDE_TYPES\n",
    "data = get_satoh_data_unseen()\n",
    "unseen = []\n",
    "seen = []\n",
    "for point in data[\"test\"][\"logical_form\"]:\n",
    "    name = point[:point.find(\"(\")]\n",
    "    if name in EXCLUDE_TYPES:\n",
    "        unseen.append(point)\n",
    "    else:\n",
    "        seen.append(point)"
   ]
  },
  {
   "cell_type": "code",
   "execution_count": 3,
   "metadata": {},
   "outputs": [
    {
     "data": {
      "text/plain": [
       "50"
      ]
     },
     "execution_count": 3,
     "metadata": {},
     "output_type": "execute_result"
    }
   ],
   "source": [
    "len(seen)"
   ]
  },
  {
   "cell_type": "code",
   "execution_count": 7,
   "metadata": {},
   "outputs": [],
   "source": [
    "types = dict()\n",
    "for point in unseen:\n",
    "    name = point[:point.find(\"(\")]\n",
    "    if name not in types:\n",
    "        types[name] = 1\n",
    "    else:\n",
    "        types[name] += 1"
   ]
  },
  {
   "cell_type": "code",
   "execution_count": 2,
   "metadata": {},
   "outputs": [],
   "source": [
    "import os\n",
    "for file in os.listdir(\"./models/facebook/bart-base-satoh2\"):\n",
    "    nr = int(file.replace(\"checkpoint-\", \"\"))\n",
    "    if nr < 81000:\n",
    "        !rm -r ./models/facebook/bart-base-satoh2/{file}"
   ]
  },
  {
   "cell_type": "code",
   "execution_count": 8,
   "metadata": {},
   "outputs": [
    {
     "data": {
      "text/plain": [
       "{'designates_at_that': 36,\n",
       " 'has_paid_itself': 6,\n",
       " 'it_is_the_end_of': 7,\n",
       " 'end_of_the_world': 1,\n",
       " 'is_a_small_business_entity_as_informed_by': 8,\n",
       " 'is_a_party_of': 12,\n",
       " 'is_a_member_of': 4}"
      ]
     },
     "execution_count": 8,
     "metadata": {},
     "output_type": "execute_result"
    }
   ],
   "source": [
    "types"
   ]
  },
  {
   "cell_type": "code",
   "execution_count": null,
   "metadata": {},
   "outputs": [],
   "source": []
  }
 ],
 "metadata": {
  "kernelspec": {
   "display_name": "Python 3",
   "language": "python",
   "name": "python3"
  },
  "language_info": {
   "codemirror_mode": {
    "name": "ipython",
    "version": 3
   },
   "file_extension": ".py",
   "mimetype": "text/x-python",
   "name": "python",
   "nbconvert_exporter": "python",
   "pygments_lexer": "ipython3",
   "version": "3.6.9"
  }
 },
 "nbformat": 4,
 "nbformat_minor": 4
}
