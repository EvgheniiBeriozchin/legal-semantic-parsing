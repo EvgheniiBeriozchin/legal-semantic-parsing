{
 "cells": [
  {
   "cell_type": "code",
   "execution_count": 4,
   "metadata": {},
   "outputs": [
    {
     "name": "stdout",
     "output_type": "stream",
     "text": [
      "Collecting sparqlwrapper\n",
      "  Downloading SPARQLWrapper-1.8.5-py3-none-any.whl (26 kB)\n",
      "Collecting rdflib>=4.0\n",
      "  Downloading rdflib-5.0.0-py3-none-any.whl (231 kB)\n",
      "\u001b[K     |################################| 231 kB 30.6 MB/s eta 0:00:01\n",
      "\u001b[?25hRequirement already satisfied: six in /usr/local/lib/python3.6/dist-packages (from rdflib>=4.0->sparqlwrapper) (1.15.0)\n",
      "Requirement already satisfied: pyparsing in /usr/local/lib/python3.6/dist-packages (from rdflib>=4.0->sparqlwrapper) (2.4.7)\n",
      "Collecting isodate\n",
      "  Downloading isodate-0.6.1-py2.py3-none-any.whl (41 kB)\n",
      "\u001b[K     |################################| 41 kB 1.6 MB/s  eta 0:00:01\n",
      "\u001b[?25hInstalling collected packages: isodate, rdflib, sparqlwrapper\n",
      "Successfully installed isodate-0.6.1 rdflib-5.0.0 sparqlwrapper-1.8.5\n",
      "\u001b[33mWARNING: You are using pip version 20.2.4; however, version 21.3.1 is available.\n",
      "You should consider upgrading via the '/usr/bin/python3 -m pip install --upgrade pip' command.\u001b[0m\n",
      "Collecting pandas\n",
      "  Downloading pandas-1.1.5-cp36-cp36m-manylinux1_x86_64.whl (9.5 MB)\n",
      "\u001b[K     |################################| 9.5 MB 18.1 MB/s eta 0:00:01\n",
      "\u001b[?25hCollecting pytz>=2017.2\n",
      "  Downloading pytz-2021.3-py2.py3-none-any.whl (503 kB)\n",
      "\u001b[K     |################################| 503 kB 30.0 MB/s eta 0:00:01\n",
      "\u001b[?25hRequirement already satisfied: numpy>=1.15.4 in /usr/local/lib/python3.6/dist-packages (from pandas) (1.18.5)\n",
      "Requirement already satisfied: python-dateutil>=2.7.3 in /usr/local/lib/python3.6/dist-packages (from pandas) (2.8.1)\n",
      "Requirement already satisfied: six>=1.5 in /usr/local/lib/python3.6/dist-packages (from python-dateutil>=2.7.3->pandas) (1.15.0)\n",
      "Installing collected packages: pytz, pandas\n",
      "Successfully installed pandas-1.1.5 pytz-2021.3\n",
      "\u001b[33mWARNING: You are using pip version 20.2.4; however, version 21.3.1 is available.\n",
      "You should consider upgrading via the '/usr/bin/python3 -m pip install --upgrade pip' command.\u001b[0m\n",
      "Collecting names\n",
      "  Downloading names-0.3.0.tar.gz (789 kB)\n",
      "\u001b[K     |################################| 789 kB 20.1 MB/s eta 0:00:01\n",
      "\u001b[?25hBuilding wheels for collected packages: names\n",
      "  Building wheel for names (setup.py) ... \u001b[?25ldone\n",
      "\u001b[?25h  Created wheel for names: filename=names-0.3.0-py3-none-any.whl size=805479 sha256=2353e39449e7904e683efc48cb78d3789c5f2010735ec62cd595fa8f06a2c875\n",
      "  Stored in directory: /root/.cache/pip/wheels/bc/0a/39/6248e200b3403f09f9251d10b1cfef7b52e4c16135ae09a9ba\n",
      "Successfully built names\n",
      "Installing collected packages: names\n",
      "Successfully installed names-0.3.0\n",
      "\u001b[33mWARNING: You are using pip version 20.2.4; however, version 21.3.1 is available.\n",
      "You should consider upgrading via the '/usr/bin/python3 -m pip install --upgrade pip' command.\u001b[0m\n"
     ]
    }
   ],
   "source": [
    "!pip3 install sparqlwrapper\n",
    "!pip3 install pandas\n",
    "!pip3 install names"
   ]
  },
  {
   "cell_type": "code",
   "execution_count": 5,
   "metadata": {},
   "outputs": [
    {
     "name": "stderr",
     "output_type": "stream",
     "text": [
      "/usr/local/lib/python3.6/dist-packages/ipykernel_launcher.py:18: FutureWarning: pandas.io.json.json_normalize is deprecated, use pandas.json_normalize instead\n"
     ]
    },
    {
     "data": {
      "text/plain": [
       "\"\\n?country ?countryLabel ?region ?regionLabel\\n?item wdt:P131 ?region.\\n?item wdt:P17 ?country.\\n'country.value', 'countryLabel.value', 'region.value', 'regionLabel.value'\\n\""
      ]
     },
     "execution_count": 5,
     "metadata": {},
     "output_type": "execute_result"
    }
   ],
   "source": [
    "from SPARQLWrapper import SPARQLWrapper, JSON\n",
    "import pandas as pd\n",
    "\n",
    "sparql = SPARQLWrapper(\"https://query.wikidata.org/sparql\")\n",
    "\n",
    "# From https://www.wikidata.org/wiki/Wikidata:SPARQL_query_service/queries/examples#Cats\n",
    "sparql.setQuery(\"\"\"\n",
    "SELECT ?item ?itemLabel\n",
    "WHERE\n",
    "{\n",
    "    ?item wdt:P31 wd:Q41487.\n",
    "    SERVICE wikibase:label { bd:serviceParam wikibase:language \"en\" }\n",
    "}\n",
    "\"\"\")\n",
    "\n",
    "results = sparql.query().convert()\n",
    "\n",
    "results_df = pd.io.json.json_normalize(results['results']['bindings'])\n",
    "results_df[['item.value', 'itemLabel.value']].head()"
   ]
  },
  {
   "cell_type": "code",
   "execution_count": null,
   "metadata": {},
   "outputs": [],
   "source": [
    "sparql.setQuery(\"\"\"\n",
    "SELECT ?item ?itemLabel ?country ?countryLabel ?region ?regionLabel\n",
    "WHERE\n",
    "{\n",
    "    ?item wdt:P31 wd:Q41487.\n",
    "    ?item wdt:P131 ?region.\n",
    "    ?item wdt:P17 ?country.\n",
    "    SERVICE wikibase:label { bd:serviceParam wikibase:language \"en\" }\n",
    "}\n",
    "\"\"\")\n",
    "sparql.setReturnFormat(JSON)\n",
    "results = sparql.query().convert()\n",
    "\n",
    "results_df = pd.io.json.json_normalize(results['results']['bindings'])\n",
    "results_df[['item.value', 'itemLabel.value', 'country.value', 'countryLabel.value', 'region.value', 'regionLabel.value']].head()"
   ]
  },
  {
   "cell_type": "code",
   "execution_count": 42,
   "metadata": {},
   "outputs": [],
   "source": [
    "ADDRESS = \"http://www.wikidata.org/entity/{}\"\n",
    "sentences = [\"The {ct} is located in {co}.\", \"The {ct} is in {co}.\", \"The {ct} activates in {co}.\", \"The location of the {ct} is {co}\", \"The location of the {ct} is in {co}\"]\n",
    "sentences.reverse()\n",
    "i = 0\n",
    "data = []\n",
    "for row in results_df[['item.value', 'itemLabel.value', 'country.value', 'countryLabel.value', 'region.value', 'regionLabel.value']].iterrows():\n",
    "    if i == 63 * 5:\n",
    "        break\n",
    "    if ADDRESS.format(row[1][1]) == row[1][0] or ADDRESS.format(row[1][5]) == row[1][4]:\n",
    "        continue\n",
    "    data.append(sentences[i // 63].format(ct=row[1][1], co=row[1][5]))\n",
    "    i += 1"
   ]
  },
  {
   "cell_type": "code",
   "execution_count": 43,
   "metadata": {},
   "outputs": [],
   "source": [
    "import pickle\n",
    "with open(\"artificial_court_regions\", \"wb\") as f:\n",
    "    pickle.dump(data, f)"
   ]
  },
  {
   "cell_type": "code",
   "execution_count": 40,
   "metadata": {},
   "outputs": [],
   "source": [
    "sentences.reverse()"
   ]
  },
  {
   "cell_type": "code",
   "execution_count": 44,
   "metadata": {},
   "outputs": [
    {
     "data": {
      "text/plain": [
       "['The location of the Koper District Court is in Koper',\n",
       " 'The location of the Courthouses in Negotino is in Negotino Municipality',\n",
       " 'The location of the Courthouses in Kratovo is in Kratovo Municipality',\n",
       " 'The location of the Justizia Jauregia, Azpeitia is in Azpeitia',\n",
       " 'The location of the Court of Milan is in Milan',\n",
       " 'The location of the Tribunal da Relação de Guimarães is in Oliveira, São Paio e São Sebastião',\n",
       " 'The location of the Tribunal de Execução de Penas de Coimbra is in Coimbra (Sé Nova, Santa Cruz, Almedina e São Bartolomeu)',\n",
       " 'The location of the Tribunal da Relação de Coimbra is in Coimbra (Sé Nova, Santa Cruz, Almedina e São Bartolomeu)',\n",
       " \"The location of the Lisbon's Administrative Court is in Parque das Nações\",\n",
       " 'The location of the Instalações Navais de Alcântara is in Estrela',\n",
       " 'The location of the Landgericht Roth is in Roth',\n",
       " 'The location of the Landgericht Greding is in Greding',\n",
       " 'The location of the High Court of Botswana is in South-East District',\n",
       " 'The location of the Former seat of the Administrative Court of Tunisia is in Tunis',\n",
       " 'The location of the Sendai High Court is in Sendai',\n",
       " 'The location of the Fukuoka High Court is in Fukuoka',\n",
       " 'The location of the Tōkyō District Court is in Chiyoda-ku',\n",
       " 'The location of the Tōkyō High Court is in Chiyoda-ku',\n",
       " 'The location of the Amtsgericht Neumarkt in der Oberpfalz is in Neumarkt in der Oberpfalz',\n",
       " 'The location of the Madras High Court is in Chennai',\n",
       " 'The location of the Madras High Court is in Madurai',\n",
       " 'The location of the National Court of Spain is in Madrid',\n",
       " 'The location of the Bayerischer Verwaltungsgerichtshof is in Maxvorstadt',\n",
       " 'The location of the Bundesgerichtshof in Anwaltssachen is in Karlsruhe',\n",
       " 'The location of the Calcutta High Court is in Ward No. 45, Kolkata Municipal Corporation',\n",
       " 'The location of the Heliaia is in Athens',\n",
       " 'The location of the Court of the Lord Lyon is in City of Edinburgh',\n",
       " 'The location of the State Tribunal of the Republic of Poland is in Warsaw',\n",
       " 'The location of the Verwaltungsgericht Cottbus is in Cottbus',\n",
       " 'The location of the Preußisches Oberverwaltungsgericht is in Charlottenburg-Wilmersdorf',\n",
       " 'The location of the Verwaltungsgericht Potsdam is in Potsdam',\n",
       " 'The location of the Kalte Hainbuche is in Schwalm-Eder-Kreis',\n",
       " 'The location of the Court of Jurisdictional Disputes is in Çankaya',\n",
       " 'The location of the Hof van Friesland is in Leeuwarden',\n",
       " 'The location of the Uschla/Supreme Party Court is in Maxvorstadt',\n",
       " 'The location of the High Court is in Hong Kong',\n",
       " 'The location of the Tribunale della Mercanzia is in borough 1 of Florence',\n",
       " 'The location of the Arbitration Court of the Republic of Tuva is in Kyzyl',\n",
       " 'The location of the Supreme Court of Bashkortostan is in Ufa',\n",
       " \"The location of the Children's Court of Western Australia is in Western Australia\",\n",
       " 'The location of the Circuit Court of Cook County is in Cook County',\n",
       " 'The location of the Court of Disputed Returns is in New South Wales',\n",
       " 'The location of the Court of Disputed Returns is in Queensland',\n",
       " 'The location of the District Court of Western Australia is in Western Australia',\n",
       " 'The location of the Family Court of Western Australia is in Western Australia',\n",
       " 'The location of the Florida Circuit Courts is in Florida',\n",
       " 'The location of the Greenland High Court is in Greenland',\n",
       " 'The location of the Greenland High Court is in Greenland',\n",
       " 'The location of the Council of Wise Men of the plain of Murcia is in Murcia',\n",
       " 'The location of the Inner House is in City of Edinburgh',\n",
       " 'The location of the Court Palace is in Piran Municipality',\n",
       " 'The location of the Supreme court (Slovak Republic) is in Old Town of Bratislava',\n",
       " 'The location of the Justizamt Treis is in Staufenberg',\n",
       " 'The location of the Amtsgericht Greding is in Greding',\n",
       " 'The location of the Amtsgericht Kastl is in Kastl',\n",
       " 'The location of the Amtsgericht Vilseck is in Vilseck',\n",
       " 'The location of the Bezirksgericht Winterthur is in Canton of Zürich',\n",
       " 'The location of the Bezirksgericht Winterthur is in Winterthur District',\n",
       " 'The location of the Keuschheitskommission is in Vienna',\n",
       " 'The location of the Amtsgericht is in Ebermannstadt',\n",
       " 'The location of the High Court (Taiwan) is in Zhongzheng District',\n",
       " 'The location of the Taiwan High Court Tainan Branch Court is in West Central District',\n",
       " 'The location of the Fujian High Court Kinmen Branch Court is in Jincheng',\n",
       " 'The location of the Taiwan High Court Taichung Branch Court is South District',\n",
       " 'The location of the Taiwan Keelung District Court is Xinyi District',\n",
       " 'The location of the Taiwan Changhua District Court is Yuanlin',\n",
       " 'The location of the Taiwan Yilan District Court is Yilan City',\n",
       " 'The location of the Taiwan High Court Hualien Branch Court is Hualien City',\n",
       " 'The location of the Taiwan High Court Kaohsiung Branch Court is Gushan District',\n",
       " 'The location of the Seoul Central District Court is Seocho District',\n",
       " 'The location of the Magistrates Court of South Australia is South Australia',\n",
       " 'The location of the Criminal Court of Thailand is Bangkok',\n",
       " 'The location of the Amtsgericht Roth is Roth',\n",
       " 'The location of the Tribunal de Justiça do Estado da Bahia is Bahia',\n",
       " 'The location of the Magistrates Court of Western Australia is Western Australia',\n",
       " 'The location of the Manchester Civil Justice Centre is Manchester',\n",
       " 'The location of the Maryland Circuit Courts is Maryland',\n",
       " 'The location of the Tel Aviv Court House is Tel Aviv',\n",
       " 'The location of the Portuguese Supreme Court of Justice is Santa Maria Maior',\n",
       " 'The location of the Sindh High Court is Sindh',\n",
       " 'The location of the Supreme Court of Queensland is Queensland',\n",
       " 'The location of the United States Virgin Islands Superior Court is United States Virgin Islands',\n",
       " 'The location of the Tribunal da Relação do Porto is Cedofeita, Santo Ildefonso, Sé, Miragaia, São Nicolau e Vitória',\n",
       " 'The location of the Tribunal de Justiça da Paraíba is João Pessoa',\n",
       " 'The location of the Tribunal de Justiça de Pernambuco is Pernambuco',\n",
       " 'The location of the Old Tainan District Court is West Central District',\n",
       " 'The location of the Supreme Court of the Republic of Slovenia is Ljubljana',\n",
       " 'The location of the District Court for Prague 10 is Prague 10',\n",
       " 'The location of the District Court for Prague 4 is Prague 10',\n",
       " 'The location of the Al Mahdawi Court is Baghdad',\n",
       " 'The location of the Suwon District Court is Suwon',\n",
       " 'The location of the Krško District Court is Krško',\n",
       " 'The location of the State House (Swakopmund) is Swakopmund',\n",
       " 'The location of the Gerichtsamt Radeberg is Radeberg',\n",
       " 'The location of the Gerichtsamt Döhlen is Freital',\n",
       " 'The location of the Gerichtsamt Stolpen is Stolpen',\n",
       " 'The location of the Tribunal Judicial da Marinha Grande is Marinha Grande',\n",
       " 'The location of the 5 Słowackiego Street in Piotrków Trybunalski is Piotrków Trybunalski',\n",
       " 'The location of the Patent and Market Court of Appeal is Stockholm Municipality',\n",
       " 'The location of the Palace of Justice is Tunis',\n",
       " 'The location of the Gericht is Kleinheubach',\n",
       " 'The location of the Amazonas State Court of Justice is Manaus',\n",
       " 'The location of the Employment and social rights law court of Vienna is Vienna',\n",
       " 'The location of the Colegio-convento de los Agustinos Calzados (Alcalá de Henares) is Alcalá de Henares',\n",
       " 'The location of the Mahilyow Voblasts Court is Mogilev',\n",
       " \"The location of the Tribunal des Prud'hommes de Lyon is 3rd arrondissement of Lyon\",\n",
       " 'The location of the New York County Court of General Sessions is New York County',\n",
       " 'The location of the Edinburgh Sheriff Court & Justice of the Peace is City of Edinburgh',\n",
       " 'The location of the Fórum da Comarca de Araci is Araci',\n",
       " 'The location of the Berhampur Munsif Court is Berhampore',\n",
       " \"The location of the Berhampur District Judge's Court is Berhampore\",\n",
       " 'The location of the Minsk city court is Minsk',\n",
       " 'The location of the Pest Central District Court is Budapest District V',\n",
       " 'The location of the Courthouse (Former) is Christchurch City',\n",
       " 'The location of the Supreme court of the Republic of Tatarstan is Kazan',\n",
       " 'The location of the Worcester County Superior Court is Worcester County',\n",
       " 'The location of the Tribunal de Trabalho de Leiria is Leiria, Pousos, Barreira e Cortes',\n",
       " 'The location of the Juízo de Competência Genérica de Paredes de Coura is Paredes de Coura e Resende',\n",
       " \"The location of the Lamego's Court is Lamego (Almacave e Sé)\",\n",
       " 'The location of the Court of family of Braga is Braga (São José de São Lázaro e São João do Souto)',\n",
       " 'The location of the Court of labour is Braga (Maximinos, Sé e Cividade)',\n",
       " 'The location of the Gerichtsamt Burgstädt is Burgstädt',\n",
       " 'The location of the High Court of Justice is Ontario',\n",
       " 'The location of the Kreisgericht Görlitz is Görlitz',\n",
       " 'The location of the Supreme court of the Republic of Ingushetia is Magas',\n",
       " 'The location of the Regional Court in Banská Bystrica is Banská Bystrica',\n",
       " 'The Gerichtsamt Ebersbach activates in Ebersbach-Neugersdorf.',\n",
       " 'The Gerichtsamt Schirgiswalde activates in Schirgiswalde-Kirschau.',\n",
       " 'The Gerichtsamt Bischofswerda activates in Bischofswerda.',\n",
       " 'The Gericht activates in Coburg.',\n",
       " 'The Gericht activates in Nuremberg.',\n",
       " 'The Gericht Fürther Straße 112 in Nürnberg activates in Nuremberg.',\n",
       " 'The Gericht Bahnhofstraße 6 in Winklarn (Oberpfalz) activates in Winklarn.',\n",
       " 'The Gericht Englburg 49 in Tittling activates in Tittling.',\n",
       " 'The Gericht Stadtplatz 97 in Burghausen activates in Burghausen.',\n",
       " 'The Gericht Nähe Neuburger Straße in Brunnen (Bayern) activates in Brunnen.',\n",
       " 'The Circuit Court of Cole County, Missouri activates in Cole County.',\n",
       " 'The Court Vaduz activates in Vaduz.',\n",
       " 'The Court of Lahojsk District activates in Lahojsk.',\n",
       " 'The Johor State Sharia Court activates in Johor Bahru.',\n",
       " 'The Landgericht Gernsheim activates in Gernsheim.',\n",
       " 'The Arbitration court of the Republic of Tatarstan activates in Republic of Tatarstan.',\n",
       " 'The County Court in Košice activates in Košice.',\n",
       " 'The Hofrieden Court activates in Vorarlberg.',\n",
       " 'The District Court of Colombo activates in Colombo.',\n",
       " 'The District Court of Colombo activates in Colombo.',\n",
       " 'The Bucharest Military Tribunal activates in Bucharest.',\n",
       " 'The Appellationsgericht Dresden activates in Dresden.',\n",
       " 'The Maritime Court of Ontario activates in Ontario.']"
      ]
     },
     "execution_count": 44,
     "metadata": {},
     "output_type": "execute_result"
    }
   ],
   "source": [
    "data"
   ]
  },
  {
   "cell_type": "code",
   "execution_count": 7,
   "metadata": {},
   "outputs": [],
   "source": [
    "ADDRESS = \"http://www.wikidata.org/entity/{}\"\n",
    "courts = []\n",
    "for row in results_df[['item.value', 'itemLabel.value']].iterrows():\n",
    "    if ADDRESS.format(row[1][1]) == row[1][0]:\n",
    "        continue\n",
    "    courts.append(row[1][1])"
   ]
  },
  {
   "cell_type": "code",
   "execution_count": 8,
   "metadata": {},
   "outputs": [
    {
     "data": {
      "text/plain": [
       "375"
      ]
     },
     "execution_count": 8,
     "metadata": {},
     "output_type": "execute_result"
    }
   ],
   "source": [
    "len(courts)"
   ]
  },
  {
   "cell_type": "code",
   "execution_count": 4,
   "metadata": {},
   "outputs": [
    {
     "name": "stdout",
     "output_type": "stream",
     "text": [
      "Steve Labay\n",
      "Karen Keys\n",
      "Wallace Kelly\n",
      "Theodora Platt\n",
      "James Kelly\n",
      "Joseph Willey\n",
      "Jessica Conley\n",
      "Breanna Urbanski\n",
      "Roger Darden\n",
      "Joseph Outlaw\n"
     ]
    }
   ],
   "source": [
    "import names\n",
    "for i in range(10):\n",
    "    print(names.get_full_name())"
   ]
  },
  {
   "cell_type": "code",
   "execution_count": 35,
   "metadata": {},
   "outputs": [],
   "source": [
    "import random\n",
    "\n",
    "simple_sentences = []\n",
    "for dec in [\"accepted\", \"refused\", \"quashed\", \"dismissed\", \"allowed\"]:\n",
    "    for app in [\"application\", \"appeal\", \"inquiry\"]:\n",
    "        r_courts = [\"by the \" + c for c in random.sample(courts, k=3)]\n",
    "        for court in [\"\", \" by the court\"] + r_courts:\n",
    "            i = 10\n",
    "            for _ in range(i):\n",
    "                last_name = random.choice([\"Mr.\", \"Mrs.\"]) + \" \" + names.get_last_name()\n",
    "                full_name = names.get_full_name()\n",
    "                if random.choice([\"Mr.\", \"Mrs.\"]) == \"Mr.\":\n",
    "                    polite_full_name = \"Mr. \" + names.get_full_name(gender='male')\n",
    "                else:\n",
    "                    polite_full_name = \"Mrs. \" + names.get_full_name(gender='female')\n",
    "\n",
    "                simple_sentences.append(\"The {app} by {name} was {dec}{court}.\".format(app=app, name=last_name, dec=dec, court=court))\n",
    "                simple_sentences.append(\"The {app} by {name} was {dec}{court}.\".format(app=app, name=full_name, dec=dec, court=court))\n",
    "                simple_sentences.append(\"The {app} by {name} was {dec}{court}.\".format(app=app, name=polite_full_name, dec=dec, court=court))"
   ]
  },
  {
   "cell_type": "code",
   "execution_count": 62,
   "metadata": {},
   "outputs": [],
   "source": [
    "import names\n",
    "\n",
    "def random_name():\n",
    "    name_type = random.choice(range(3))\n",
    "    if name_type == 0:\n",
    "        return random.choice([\"Mr.\", \"Mrs.\"]) + \" \" + names.get_last_name()\n",
    "    elif name_type == 1:\n",
    "        return names.get_full_name()\n",
    "    else:\n",
    "        if random.choice([\"Mr.\", \"Mrs.\"]) == \"Mr.\":\n",
    "            return \"Mr. \" + names.get_full_name(gender='male')\n",
    "        else:\n",
    "            return \"Mrs. \" + names.get_full_name(gender='female')\n",
    "        \n",
    "def random_names(count):\n",
    "    s = \"\"\n",
    "    for i in range(count):\n",
    "        if i == 0:\n",
    "            s += random_name()\n",
    "        elif i == count - 1:\n",
    "            s += \" and \" + random_name()\n",
    "        else:\n",
    "            s += \", \" + random_name()\n",
    "            \n",
    "    return s\n",
    "\n",
    "ordering = [\"first\", \"second\", \"third\", \"fourth\", \"fifth\"]\n",
    "def random_names_partition(count, partition, partition_by_name):\n",
    "    s = \"\"\n",
    "    r_names = []\n",
    "    for i in range(count):\n",
    "        r_name = random_name()\n",
    "        r_names.append(r_name)\n",
    "        if i == 0:\n",
    "            s += r_name\n",
    "        elif i == count - 1:\n",
    "            s += \" and \" + r_name\n",
    "        else:\n",
    "            s += \", \" + r_name\n",
    "            \n",
    "    first_group = sorted(random.sample(range(count), k=partition))\n",
    "    second_group = list(range(count))\n",
    "    s1 = \"\" if not partition_by_name else (\"one by \" if partition == 1 else \"ones by \")\n",
    "    if partition == 1:\n",
    "        s1 += (r_names[first_group[0]] if partition_by_name else ordering[first_group[0]])\n",
    "    else:\n",
    "        for i, index in enumerate(first_group):\n",
    "            second_group.remove(index)\n",
    "            sub = (r_names[index] if partition_by_name else ordering[index])\n",
    "            if i == 0:\n",
    "                s1 += sub\n",
    "            elif i == partition - 1:\n",
    "                s1 += \" and \" + sub\n",
    "            else:\n",
    "                s1 += \", \" + sub\n",
    "            \n",
    "    s2 = \"\" if not partition_by_name else (\"one by \" if count - partition == 1 else \"ones by \")\n",
    "    if count - partition == 1:\n",
    "        s2 += (r_names[second_group[0]] if partition_by_name else ordering[second_group[0]])\n",
    "    else:\n",
    "        for i, index in enumerate(second_group):\n",
    "            sub = (r_names[index] if partition_by_name else ordering[index])\n",
    "            if i == 0:\n",
    "                s2 += sub\n",
    "            elif i == count - partition - 1:\n",
    "                s2 += \" and \" + sub\n",
    "            else:\n",
    "                s2 += \", \" + sub\n",
    "            \n",
    "    return s, s1, s2"
   ]
  },
  {
   "cell_type": "code",
   "execution_count": 19,
   "metadata": {},
   "outputs": [],
   "source": [
    "medium_sentences = []\n",
    "random_courts = courts + ([\"court\"] * int(len(courts) * 0.05))\n",
    "for dec in [\"accepted\", \"refused\", \"dismissed\", \"allowed\"]:\n",
    "    for app in [\"applications\", \"inquiries\"]:\n",
    "        for co in [\"all\", \"none\", \"two\", \"three\", \"four\"]:\n",
    "            min_num = 3 if co == \"two\" else (4 if co == \"three\" else (5 if co == \"four\" else 2))\n",
    "            for i in range(min_num, 6):\n",
    "                num = 5\n",
    "                for _ in range(num):\n",
    "                    all_names = random_names(i)\n",
    "                    court = random.choice(random_courts)\n",
    "                    medium_sentences.append(\"The {court} received {app} by {names} and {dec} {co} of them\".format(app=app, co=co, dec=dec, court=court, names=all_names))"
   ]
  },
  {
   "cell_type": "code",
   "execution_count": 36,
   "metadata": {},
   "outputs": [
    {
     "data": {
      "text/plain": [
       "2250"
      ]
     },
     "execution_count": 36,
     "metadata": {},
     "output_type": "execute_result"
    }
   ],
   "source": [
    "len(simple_sentences)"
   ]
  },
  {
   "cell_type": "code",
   "execution_count": 3,
   "metadata": {},
   "outputs": [
    {
     "name": "stdout",
     "output_type": "stream",
     "text": [
      "1120\n",
      "The Court of Exchequer received applications by Anthony Durham and Salvador Dyess and accepted the one by Salvador Dyess, while refusing the one by Anthony Durham\n"
     ]
    }
   ],
   "source": [
    "import pickle\n",
    "with open(\"artificial_hard_applications\", \"rb\") as f:\n",
    "    s = pickle.load(f)\n",
    "    print(len(s))\n",
    "    print(s[0])"
   ]
  },
  {
   "cell_type": "code",
   "execution_count": 66,
   "metadata": {},
   "outputs": [],
   "source": [
    "import pickle\n",
    "with open(\"artificial_hard_applications\", \"wb\") as f:\n",
    "    pickle.dump(hard_sentences, f)"
   ]
  },
  {
   "cell_type": "code",
   "execution_count": 63,
   "metadata": {},
   "outputs": [],
   "source": [
    "hard_sentences = []\n",
    "random_courts = courts + ([\"court\"] * int(len(courts) * 0.05))\n",
    "for dec in [\"accepted\", \"allowed\", \"refused\", \"dismissed\"]:\n",
    "    while_l = [\"accepting\", \"allowing\"] if dec in [\"refused\", \"dismissed\"] else [\"refusing\", \"dismissing\"]\n",
    "    for while_v in while_l:\n",
    "        for app in [\"applications\", \"inquiries\"]:\n",
    "            for i in range(2, 6):\n",
    "                num = 5 * i\n",
    "                for _ in range(num):\n",
    "                    all_names, first, second = random_names_partition(i, partition=random.choice(range(1, i)), partition_by_name=random.choice([True, False]))\n",
    "                    second = random.choices([second, \"rest\"], weights=[0.95, 0.05])[0]\n",
    "                    court = random.choice(random_courts)\n",
    "                    hard_sentences.append(\"The {court} received {app} by {names} and {dec} the {g1}, while {while_v} the {g2}\".format(app=app, while_v=while_v, dec=dec, court=court, names=all_names, g1=first, g2=second))"
   ]
  },
  {
   "cell_type": "code",
   "execution_count": 64,
   "metadata": {},
   "outputs": [
    {
     "data": {
      "text/plain": [
       "1120"
      ]
     },
     "execution_count": 64,
     "metadata": {},
     "output_type": "execute_result"
    }
   ],
   "source": [
    "len(hard_sentences)"
   ]
  },
  {
   "cell_type": "code",
   "execution_count": 65,
   "metadata": {},
   "outputs": [
    {
     "data": {
      "text/plain": [
       "['The Court of Jurisdictional Disputes received inquiries by Mrs. Millen, Dorothy Gartland, Mr. Gray and Mr. Christopher Tototzintle and dismissed the third, while accepting the first, second and third, fourth',\n",
       " 'The Supreme Court of the Republic of Slovenia received applications by Kevin Ehlert, Mr. Collazo, David Tirado, Mrs. Jocelyn Mobley and Mrs. Mashburn and accepted the second and third, while refusing the first, fourth and fifth',\n",
       " 'The Regional Federal Courts received inquiries by Mr. Angel Huhman, Mrs. Ruth Cullins, Mr. Shumpert and Mrs. Perham and refused the ones by Mr. Shumpert and Mrs. Perham, while accepting the ones by Mr. Angel Huhman and Mrs. Ruth Cullins',\n",
       " 'The Amtsgericht Greding received inquiries by Mr. Brown, Mr. Wahba, Gabriela Stevenson and Mrs. Jenny Remus and allowed the first and fourth, while dismissing the second and third',\n",
       " 'The Magistrates Court of Tasmania received inquiries by Gwendolyn Kositzke, Mrs. Rita Ceja, Mr. James Ferris, Mrs. Bernard and Edward Sitter and dismissed the third and fourth, while accepting the first, second and fifth',\n",
       " 'The Vilnius City 4th District Court received inquiries by Elaine Riggs, Mrs. Nellie Rowan, Mrs. Reid and Ricky Williams and accepted the one by Mrs. Reid, while dismissing the ones by Elaine Riggs, Mrs. Nellie Rowan and Mrs. Reid, Ricky Williams',\n",
       " \"The Lamego's Court received applications by Mr. Ron Gendreau, Mr. Hahn and Mr. Collins and refused the second and third, while allowing the rest\",\n",
       " 'The Supreme Court of Azerbaijan received inquiries by Mr. Michael Raynor, Louis Minor, Mrs. Anna Paxson and Thalia Torres and accepted the second and third, while dismissing the first and fourth',\n",
       " 'The Gerichtsamt Burgstädt received applications by Mr. Jacob Silveri and Mrs. Alvarez and accepted the one by Mrs. Alvarez, while refusing the one by Mr. Jacob Silveri',\n",
       " 'The Court of Exchequer received applications by Mr. Roscoe Macmillan and Christina Jones and allowed the one by Christina Jones, while dismissing the one by Mr. Roscoe Macmillan']"
      ]
     },
     "execution_count": 65,
     "metadata": {},
     "output_type": "execute_result"
    }
   ],
   "source": [
    "random.sample(hard_sentences, k=10)"
   ]
  },
  {
   "cell_type": "code",
   "execution_count": null,
   "metadata": {},
   "outputs": [],
   "source": []
  }
 ],
 "metadata": {
  "kernelspec": {
   "display_name": "Python 3",
   "language": "python",
   "name": "python3"
  },
  "language_info": {
   "codemirror_mode": {
    "name": "ipython",
    "version": 3
   },
   "file_extension": ".py",
   "mimetype": "text/x-python",
   "name": "python",
   "nbconvert_exporter": "python",
   "pygments_lexer": "ipython3",
   "version": "3.6.9"
  }
 },
 "nbformat": 4,
 "nbformat_minor": 4
}
