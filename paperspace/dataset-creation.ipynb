{
 "cells": [
  {
   "cell_type": "code",
   "execution_count": null,
   "metadata": {
    "gradient": {
     "editing": false,
     "id": "4da43a15-fdaf-41a2-8bf0-2e3300816784",
     "kernelId": "50dd65e7-80a8-4cac-97fb-16e9965fc0d6"
    }
   },
   "outputs": [
    {
     "name": "stdout",
     "output_type": "stream",
     "text": [
      "Collecting nltk\n",
      "  Downloading nltk-3.6.7-py3-none-any.whl (1.5 MB)\n",
      "\u001b[K     |################################| 1.5 MB 21.8 MB/s eta 0:00:01\n",
      "\u001b[?25hRequirement already satisfied: tqdm in /usr/local/lib/python3.6/dist-packages (from nltk) (4.51.0)\n",
      "Requirement already satisfied: click in /usr/local/lib/python3.6/dist-packages (from nltk) (7.1.2)\n",
      "Collecting regex>=2021.8.3\n",
      "  Downloading regex-2022.1.18-cp36-cp36m-manylinux_2_17_x86_64.manylinux2014_x86_64.whl (748 kB)\n",
      "\u001b[K     |################################| 748 kB 33.6 MB/s eta 0:00:01\n",
      "\u001b[?25hRequirement already satisfied: joblib in /usr/local/lib/python3.6/dist-packages (from nltk) (0.17.0)\n",
      "Installing collected packages: regex, nltk\n",
      "  Attempting uninstall: regex\n",
      "    Found existing installation: regex 2020.11.13\n",
      "    Uninstalling regex-2020.11.13:\n",
      "      Successfully uninstalled regex-2020.11.13\n",
      "Successfully installed nltk-3.6.7 regex-2022.1.18\n",
      "\u001b[33mWARNING: You are using pip version 20.2.4; however, version 21.3.1 is available.\n",
      "You should consider upgrading via the '/usr/bin/python3 -m pip install --upgrade pip' command.\u001b[0m\n"
     ]
    }
   ],
   "source": [
    "#!pip3 install openpyxl\n",
    "#!pip3 install pandas\n",
    "!pip3 install nltk"
   ]
  },
  {
   "cell_type": "code",
   "execution_count": null,
   "metadata": {
    "gradient": {
     "editing": false,
     "id": "192d39a1-81cc-4dbc-b8da-2f807ff4678f",
     "kernelId": "50dd65e7-80a8-4cac-97fb-16e9965fc0d6"
    }
   },
   "outputs": [],
   "source": [
    "import json\n",
    "with open(\"m_data/echr_sample.json\", \"r\") as f:\n",
    "    sample = json.load(f)"
   ]
  },
  {
   "cell_type": "code",
   "execution_count": null,
   "metadata": {
    "gradient": {
     "editing": false,
     "id": "52cfc07d-1630-4e53-addd-6d43d3857c46",
     "kernelId": "50dd65e7-80a8-4cac-97fb-16e9965fc0d6"
    }
   },
   "outputs": [],
   "source": [
    "from data_creation import ECHRData\n",
    "echr = ECHRData()"
   ]
  },
  {
   "cell_type": "code",
   "execution_count": null,
   "metadata": {
    "gradient": {
     "editing": false,
     "id": "05094a9a-7ff9-44d6-98b1-85bca8d5e7de",
     "kernelId": "50dd65e7-80a8-4cac-97fb-16e9965fc0d6"
    }
   },
   "outputs": [],
   "source": [
    "cases = echr.get_data_as_sentences()\n",
    "appeal_sentences = []\n",
    "for case in cases:\n",
    "    case_set = set(case)\n",
    "    for sentence in case_set:\n",
    "        if \"appeal\" in sentence:\n",
    "            appeal_sentences.append(sentence.replace('\\xa0', ' '))"
   ]
  },
  {
   "cell_type": "code",
   "execution_count": null,
   "metadata": {
    "gradient": {
     "editing": false,
     "id": "ec289d02-0738-45ab-ae16-46f09340676e",
     "kernelId": "50dd65e7-80a8-4cac-97fb-16e9965fc0d6"
    }
   },
   "outputs": [],
   "source": [
    "import re\n",
    "date = \"(?:\\d{1,2}) (?:\\w+) (?:\\d{2,4})\"\n",
    "event = \"\".join([\n",
    "        \"(quashed|upheld|allowed|dismissed) \",\n",
    "        \"(?:the|that|an) (?:(?:applicant’s|applicant party’s) )?\",\n",
    "        \"(judgment|decision|application|appeal|conviction)\",\n",
    "        \"(?: of ({date}))?\"\n",
    "        \"(?: by the applicant)?\"\n",
    "        \"( on appeal)?\"\n",
    "        ]).format(date=date)\n",
    "appeal_regex = re.compile(\n",
    "    \"\".join([\n",
    "        \"On ({date}) the ([\\w* ]*)(?:court|Court) \",\n",
    "        \"{event}\",\n",
    "        \"(?: and {event})*\"\n",
    "        \"\\.\"\n",
    "    ])      \n",
    "    .format(date=date, event=event))\n",
    "appeal_regex3 = re.compile(\"On {date} the ([\\w* ]*)(applicant|applicants|lawyer) \\d* (appealed|lodged).*\")"
   ]
  },
  {
   "cell_type": "code",
   "execution_count": null,
   "metadata": {
    "gradient": {
     "editing": false,
     "id": "424f8cd3-c261-4b56-b930-2605db101cd7",
     "kernelId": "50dd65e7-80a8-4cac-97fb-16e9965fc0d6"
    }
   },
   "outputs": [
    {
     "name": "stdout",
     "output_type": "stream",
     "text": [
      "658\n"
     ]
    }
   ],
   "source": [
    "match_count = 0\n",
    "matched = []\n",
    "for sentence in appeal_sentences:\n",
    "    m2 = appeal_regex.match(sentence)\n",
    "    if m2 is not None: #and m2 is None:\n",
    "        matched.append((sentence, m2.groups()))\n",
    "        #print(m.groups())\n",
    "        match_count += 1\n",
    "print(match_count)"
   ]
  },
  {
   "cell_type": "code",
   "execution_count": null,
   "metadata": {
    "gradient": {
     "editing": false,
     "id": "7d0c6985-7ddd-45c3-8863-902da91004d9",
     "kernelId": "50dd65e7-80a8-4cac-97fb-16e9965fc0d6"
    }
   },
   "outputs": [],
   "source": [
    "echr_knowledge = []\n",
    "_id = 0\n",
    "for sentence, groups in matched:\n",
    "    point_dict = dict()\n",
    "    point_dict[\"id\"] = _id\n",
    "    point_dict[\"sentence\"] = sentence\n",
    "    point_dict[\"date\"] = groups[0]\n",
    "    if groups[1] is not None and groups[1] != '':\n",
    "        point_dict[\"court_type_or_name\"] = groups[1] + \"Court\"\n",
    "    i = 2\n",
    "    actions = []\n",
    "    while i < len(groups) and groups[i] is not None:\n",
    "        action = dict()\n",
    "        action[\"action\"] = groups[i]\n",
    "        action[\"object\"] = groups[i + 1]\n",
    "        if groups[i + 2] is not None:\n",
    "            action[\"object_date\"] = groups[i + 2]\n",
    "        if groups[i + 3] is not None:\n",
    "            action[\"appeal\"] = True\n",
    "        i += 4\n",
    "        actions.append(action)\n",
    "        \n",
    "    point_dict[\"actions\"] = actions\n",
    "    \n",
    "    echr_knowledge.append(point_dict)\n",
    "    _id += 1"
   ]
  },
  {
   "cell_type": "code",
   "execution_count": null,
   "metadata": {
    "gradient": {
     "editing": false,
     "id": "10d3b818-50e1-4fbf-952a-73e0d6d1ded7",
     "kernelId": "50dd65e7-80a8-4cac-97fb-16e9965fc0d6"
    }
   },
   "outputs": [],
   "source": [
    "import json\n",
    "with open(\"echr_knowledge_appeal.json\", \"w\") as f:\n",
    "    json.dump(echr_knowledge, f)"
   ]
  },
  {
   "cell_type": "code",
   "execution_count": null,
   "metadata": {
    "gradient": {
     "editing": false,
     "id": "8712f659-50be-4cea-a9b4-f50033e54729",
     "kernelId": "50dd65e7-80a8-4cac-97fb-16e9965fc0d6"
    }
   },
   "outputs": [],
   "source": [
    "for point in echr_knowledge:\n",
    "    free_var = \"a\"\n",
    "    logical_form = \"\"\n",
    "    logical_form += \"Date({})\".format(point[\"date\"])\n",
    "    if \"court_type_or_name\" in point:\n",
    "        logical_form += \"^Court({})\".format(point[\"court_type_or_name\"])\n",
    "    else:\n",
    "        logical_form += \"^Court()\"\n",
    "    for action in point[\"actions\"]:\n",
    "        if action[\"action\"] == \"upheld\":\n",
    "            logical_form += \"^Uphold(\\{})\".format(free_var)\n",
    "            logical_form += \"^UpheldObject(\\{}, {})\".format(free_var, action[\"object\"])\n",
    "            if \"appeal\" in action:\n",
    "                logical_form += \"^UpheldOnAppeal(\\{})\".format(free_var)\n",
    "        elif action[\"action\"] == \"quashed\":\n",
    "            logical_form += \"^Quash(\\{})\".format(free_var)\n",
    "            logical_form += \"^QuashedObject(\\{}, {})\".format(free_var, action[\"object\"])\n",
    "            if \"appeal\" in action:\n",
    "                logical_form += \"^QuashedOnAppeal(\\{})\".format(free_var)\n",
    "        elif action[\"action\"] == \"allowed\":\n",
    "            logical_form += \"^Allow(\\{})\".format(free_var)\n",
    "            logical_form += \"^AllowedObject(\\{}, {})\".format(free_var, action[\"object\"])\n",
    "            if \"appeal\" in action:\n",
    "                logical_form += \"^AllowedOnAppeal(\\{})\".format(free_var)\n",
    "        elif action[\"action\"] == \"dismissed\":\n",
    "            logical_form += \"^Dismiss(\\{})\".format(free_var)\n",
    "            logical_form += \"^DismissedObject(\\{}, {})\".format(free_var, action[\"object\"])\n",
    "            if \"appeal\" in action:\n",
    "                logical_form += \"^DismissedOnAppeal(\\{})\".format(free_var)\n",
    "        free_var = chr(ord(free_var) + 1)\n",
    "    point[\"fol_form\"] = logical_form"
   ]
  },
  {
   "cell_type": "code",
   "execution_count": null,
   "metadata": {
    "gradient": {
     "editing": false,
     "id": "ee75cee9-c92e-4116-9b1e-80e5b1150e81",
     "kernelId": "50dd65e7-80a8-4cac-97fb-16e9965fc0d6"
    }
   },
   "outputs": [
    {
     "name": "stdout",
     "output_type": "stream",
     "text": [
      "{'id': 421, 'sentence': 'On 30 October 2003 the court dismissed the applicant’s appeal.', 'date': '30 October 2003', 'actions': [{'action': 'dismissed', 'object': 'appeal'}], 'fol_form': 'Date(30 October 2003)^Court()^Dismiss(\\\\a)^DismissedObject(\\\\a, appeal)'}\n"
     ]
    }
   ],
   "source": [
    "print(echr_knowledge[421])"
   ]
  },
  {
   "cell_type": "code",
   "execution_count": null,
   "metadata": {
    "gradient": {
     "editing": false,
     "id": "a85a3041-cbba-4d3d-b224-0f78f0a1fa47",
     "kernelId": "50dd65e7-80a8-4cac-97fb-16e9965fc0d6"
    }
   },
   "outputs": [],
   "source": []
  },
  {
   "cell_type": "code",
   "execution_count": null,
   "metadata": {
    "gradient": {
     "editing": false,
     "id": "94867980-eb21-48b6-8816-a047b35af50e",
     "kernelId": "50dd65e7-80a8-4cac-97fb-16e9965fc0d6"
    }
   },
   "outputs": [
    {
     "name": "stderr",
     "output_type": "stream",
     "text": [
      "[nltk_data] Downloading package punkt to /root/nltk_data...\n",
      "[nltk_data]   Unzipping tokenizers/punkt.zip.\n"
     ]
    }
   ],
   "source": [
    "cases = echr.get_data_as_sentences()\n",
    "refer_sentences = []\n",
    "for case in cases:\n",
    "    case_set = set(case)\n",
    "    for sentence in case_set:\n",
    "        if \"was referred to\" in sentence:\n",
    "            refer_sentences.append(sentence.replace('\\xa0', ' '))"
   ]
  },
  {
   "cell_type": "code",
   "execution_count": null,
   "metadata": {
    "gradient": {
     "editing": false,
     "id": "5f4f6d38-f93d-4224-ad93-dc56a0d851bc",
     "kernelId": "50dd65e7-80a8-4cac-97fb-16e9965fc0d6"
    }
   },
   "outputs": [
    {
     "data": {
      "text/plain": [
       "1458"
      ]
     },
     "execution_count": 5,
     "metadata": {},
     "output_type": "execute_result"
    }
   ],
   "source": [
    "len(refer_sentences)"
   ]
  },
  {
   "cell_type": "code",
   "execution_count": null,
   "metadata": {
    "gradient": {
     "editing": false,
     "id": "ba256abf-a448-40b8-8dc1-2d4080962577",
     "kernelId": "50dd65e7-80a8-4cac-97fb-16e9965fc0d6"
    }
   },
   "outputs": [
    {
     "data": {
      "text/plain": [
       "['After the entry into force of Protocol No. 11 on 1 November 1998 and in accordance with the provisions of Article 5 § 5 thereof, the case was referred to the Grand Chamber of the Court.',\n",
       " 'The case was referred to the Court, as established under former Article 19 of the Convention, by the European Commission of Human Rights (“the Commission”) on 24 September 1999, within the three-month period laid down by former Articles 32 § 1 and 47 of the Convention.',\n",
       " 'The case was referred to the Court by the European Commission of Human Rights (\"the Commission\") and by the Italian Government (\"the Government\") on 29 May 1995, within the three-month period laid down by Article 32 para. 1 and Article 47 of the Convention (art. 32-1, art. 47).',\n",
       " 'The present case was referred to the Court, within the period of three months laid down by Articles 32 para. 1 and 47 (art. 32-1, art. 47) of the Convention for the Protection of Human Rights and Fundamental Freedoms (\"the Convention\"), by the European Commission of Human Rights (\"the Commission\") on 16 May 1983 and then by the Government of the  (\"the Government\") on 25 May 1983.',\n",
       " 'On 2 October 2001, according to the relevant rules governing the functioning of the Court of Cassation in litigation of this nature, the casefile of the  was referred to the competent division of the Court of Cassation through the intermediary of the office of the public prosecutor at the Court of Cassation.',\n",
       " 'The application was referred to the Gdańsk Self-Government Board of Appeal, a body competent to deal with the matter.',\n",
       " 'The Deweer case was referred to the Court by the European Commission of Human Rights (\"the Commission\").',\n",
       " 'The Court has therefore had cognisance of the \"fact\" as from the moment when the case was referred to it (14 December 1978).',\n",
       " 'The applicant was referred to .',\n",
       " 'On 20 July 2000 the case was referred to the .']"
      ]
     },
     "execution_count": 6,
     "metadata": {},
     "output_type": "execute_result"
    }
   ],
   "source": [
    "refer_sentences[:10]"
   ]
  },
  {
   "cell_type": "code",
   "execution_count": null,
   "metadata": {
    "gradient": {
     "editing": false,
     "id": "91aa44f0-7e89-4cda-b1da-0ac0a9bc2d23",
     "kernelId": "50dd65e7-80a8-4cac-97fb-16e9965fc0d6"
    }
   },
   "outputs": [],
   "source": [
    "date = \"(?:\\d{1,2}) (?:\\w+) (?:\\d{2,4})\"\n",
    "conj = \"(?:(?:and )|(, ))\"\n",
    "words = \"[(\\w|,|.|\\\"|\\(|\\)))* ]*\"\n",
    "no_by_on = \"([^\\n(, by )( on )]*)\"\n",
    "no_on_within = \"([^\\n( within )( on )]*)\"\n",
    "words = \".*\"\n",
    "by = \"(?: by (?P<by>{words}))\".format(words=words)\n",
    "by2 = \"(?: by (?P<by>{words}))\".format(words=no_on_within)\n",
    "on = \"(?: on (?P<on>{date}))\".format(date=date)\n",
    "within=\"(?: within (?P<within>{words}))?\".format(words=words)\n",
    "within2=\"(?: within (?P<within>{words}))?\".format(words=no_by_on)\n",
    "by_on_within = \"(?:{conj}?(?:{by}|{on}|{within}))*\".format(by=by, on=on, within=within, conj=conj)\n",
    "by_on_within2 = \"(?:{conj}?(?:{by}|{on}|{within}))*\".format(by=by2, on=on, within=within2, conj=conj)\n",
    "\n",
    "refer_regex = re.compile(\n",
    "    \"\".join([\n",
    "        \"The (?:present )?(?:case|application)((?: of)? {words})? was referred to the (?P<courtname>[\\w* ]*)(?:court|Court){by_on_within}\\.\",\n",
    "    ])\n",
    "    .format(words=words, by_on_within=by_on_within2)\n",
    ")\n",
    "\n",
    "refer_regex1 = re.compile(\n",
    "    \"\".join([\n",
    "        \"The (?:present )?(?:case|application)((?: of)? {words})? was referred to the (?P<courtname>[\\w* ]*)(?:court|Court){by_on_within}\\.\",\n",
    "    ])\n",
    "    .format(words=words, by_on_within=by_on_within)\n",
    ")\n",
    "\n",
    "refer_regex3 = re.compile(\n",
    "    \"\".join([\n",
    "        \"The (?:present )?(?:case|application)((?: of)? {words})? was referred to the (?P<courtname>[\\w* ]*)(?:court|Court){by_on_within}.*\",\n",
    "    ])\n",
    "    .format(words=words, by_on_within=by_on_within)\n",
    ")\n",
    "\n",
    "\n",
    "#refer_regex = re.compile()\n",
    "\n",
    "refer_regex2 = re.compile(\n",
    "    \"\".join([\n",
    "        \"The (present )?(case|application).*\",\n",
    "    ])    \n",
    ")"
   ]
  },
  {
   "cell_type": "code",
   "execution_count": null,
   "metadata": {
    "gradient": {
     "editing": false,
     "id": "5a8425bc-8f8b-4f7d-bf23-26cf0ff071a0",
     "kernelId": "50dd65e7-80a8-4cac-97fb-16e9965fc0d6"
    }
   },
   "outputs": [
    {
     "name": "stdout",
     "output_type": "stream",
     "text": [
      "549\n"
     ]
    }
   ],
   "source": [
    "match_count = 0\n",
    "matched = []\n",
    "for sentence in refer_sentences:\n",
    "    m = refer_regex.match(sentence)\n",
    "    m2 = refer_regex1.match(sentence)\n",
    "    if m2 is not None and m is None:\n",
    "        matched.append((sentence, m2.groupdict()))\n",
    "        #print(sentence)\n",
    "        #print(m.groups())\n",
    "        match_count += 1\n",
    "print(match_count)"
   ]
  },
  {
   "cell_type": "code",
   "execution_count": null,
   "metadata": {
    "gradient": {
     "editing": false,
     "id": "1f60ed28-73bd-493d-b272-7b677aac1910",
     "kernelId": "50dd65e7-80a8-4cac-97fb-16e9965fc0d6"
    }
   },
   "outputs": [
    {
     "name": "stdout",
     "output_type": "stream",
     "text": [
      "(' by the European Commission of Human Rights (“the Commission”) on 28 October 1996 and by the Italian Parliament,', ' and by the Italian Parliament,', ' and', 'the Italian Parliament,', '28 October 1996', None)\n",
      "The case was referred to the Court by the European Commission of Human Rights (“the Commission”) on 28 October 1996, within the three-month period laid down by Article 32 § 1 and Article 47 of the Convention.\n"
     ]
    }
   ],
   "source": [
    "words = \"[(\\w|,|.|\\\"|\\(|\\)))* ]*\"\n",
    "conj = \"(?:( and|,))\"\n",
    "no_by_on = \".*?(?=, by | on )\"\n",
    "no_on_within = \".*?(?= within | on )\"\n",
    "by2 = \"(?: by (?P<by>{words}))\".format(words=no_on_within)\n",
    "within2=\"(?: within (?P<within>{words}))\".format(words=no_by_on)\n",
    "by_on_within2 = \"(?P<s>({conj}?(?:{by}|{on}|{within}))*)\".format(by=by2, on=on, within=within2, conj=conj)\n",
    "refer_regex = re.compile(\n",
    "    \"\".join([\n",
    "        \"The case was referred to the Court{by_on_within}.*\",\n",
    "    ])\n",
    "    .format(words=words, by_on_within=by_on_within2)\n",
    ")\n",
    "\n",
    "m = refer_regex.match(\"The case was referred to the Court by the European Commission of Human Rights (“the Commission”) on 28 October 1996 and by the Italian Parliament, within the three-month period laid down by Article 32 § 1 and Article 47 of the Convention.\")\n",
    "print(m.groups())\n",
    "print(\"The case was referred to the Court by the European Commission of Human Rights (“the Commission”) on 28 October 1996, within the three-month period laid down by Article 32 § 1 and Article 47 of the Convention.\")"
   ]
  },
  {
   "cell_type": "code",
   "execution_count": null,
   "metadata": {
    "gradient": {
     "editing": false,
     "id": "398c0f8f-43b7-4f94-b7b7-9dff6fa85c3d",
     "kernelId": "50dd65e7-80a8-4cac-97fb-16e9965fc0d6"
    }
   },
   "outputs": [
    {
     "data": {
      "text/plain": [
       "<_sre.SRE_Match object; span=(0, 1), match='x'>"
      ]
     },
     "execution_count": 177,
     "metadata": {},
     "output_type": "execute_result"
    }
   ],
   "source": [
    "re.compile(\".*?(?= within | on )\").match(\"x on y\")"
   ]
  },
  {
   "cell_type": "code",
   "execution_count": null,
   "metadata": {
    "gradient": {
     "editing": false,
     "id": "8cffba7b-41a7-481f-a90f-812c46b42998",
     "kernelId": "50dd65e7-80a8-4cac-97fb-16e9965fc0d6"
    }
   },
   "outputs": [
    {
     "data": {
      "text/plain": [
       "[('The case was referred to the Court by the European Commission of Human Rights (“the Commission”) on 28 October 1996, within the three-month period laid down by Article 32 § 1 and Article 47 of the Convention.',\n",
       "  {'courtname': '',\n",
       "   'by': 'the European Commission of Human Rights (“the Commission”) on 28 October 1996, within the three-month period laid down by Article 32 § 1 and Article 47 of the Convention',\n",
       "   'on': None,\n",
       "   'within': None}),\n",
       " ('The case was referred to the Court by the French Government (“the Government”) on 14 April 1997, within the three-month period laid down by Article 32 § 1 and Article 47 of the Convention.',\n",
       "  {'courtname': '',\n",
       "   'by': 'the French Government (“the Government”) on 14 April 1997, within the three-month period laid down by Article 32 § 1 and Article 47 of the Convention',\n",
       "   'on': None,\n",
       "   'within': None}),\n",
       " ('The case was referred to the Court by the European Commission of Human Rights (\"the Commission\") on 23 October 1987, within the three-month period laid down in Article 32 para. 1 and Article 47 (art. 32-1, art. 47) of the Convention.',\n",
       "  {'courtname': '',\n",
       "   'by': 'the European Commission of Human Rights (\"the Commission\") on 23 October 1987, within the three-month period laid down in Article 32 para. 1 and Article 47 (art. 32-1, art. 47) of the Convention',\n",
       "   'on': None,\n",
       "   'within': None}),\n",
       " ('The case was referred to the Court by the European Commission of Human Rights (\"the Commission\") on 7 December 1991, within the three-month period laid down in Article 32 para. 1 and Article 47 (art. 32-1, art. 47) of the Convention.',\n",
       "  {'courtname': '',\n",
       "   'by': 'the European Commission of Human Rights (\"the Commission\") on 7 December 1991, within the three-month period laid down in Article 32 para. 1 and Article 47 (art. 32-1, art. 47) of the Convention',\n",
       "   'on': None,\n",
       "   'within': None}),\n",
       " ('The case was referred to the Court by the European Commission of Human Rights (“the Commission”) on 4 July 1996 and by the French Government (“the Government”) on 17 September 1996, within the three-month period laid down by Article 32 § 1 and Article 47 of the Convention.',\n",
       "  {'courtname': '',\n",
       "   'by': 'the European Commission of Human Rights (“the Commission”) on 4 July 1996 and by the French Government (“the Government”) on 17 September 1996, within the three-month period laid down by Article 32 § 1 and Article 47 of the Convention',\n",
       "   'on': None,\n",
       "   'within': None}),\n",
       " ('The case was referred to the court by Mrs E.P.',\n",
       "  {'courtname': '', 'by': 'Mrs E.P', 'on': None, 'within': None}),\n",
       " ('The case was referred to the Court by the European Commission of Human Rights (“the Commission”) on 12 March 1999.',\n",
       "  {'courtname': '',\n",
       "   'by': 'the European Commission of Human Rights (“the Commission”) on 12 March 1999',\n",
       "   'on': None,\n",
       "   'within': None}),\n",
       " ('The case was referred to the Court by the European Commission of Human Rights (“the Commission”) on 15 December 1997 and by the Government of the Kingdom of Sweden (“the Government”) on 13 February 1998, within the three-month period laid down by Article 32 § 1 and Article 47 of the Convention.',\n",
       "  {'courtname': '',\n",
       "   'by': 'the European Commission of Human Rights (“the Commission”) on 15 December 1997 and by the Government of the Kingdom of Sweden (“the Government”) on 13 February 1998, within the three-month period laid down by Article 32 § 1 and Article 47 of the Convention',\n",
       "   'on': None,\n",
       "   'within': None}),\n",
       " ('The case was referred to the Court by the European Commission of Human Rights (\"the Commission\") on 16 October 1986, within the three-month period laid down in Article 32 § 1 and Article 47 (art. 32-1, art. 47) of the Convention.',\n",
       "  {'courtname': '',\n",
       "   'by': 'the European Commission of Human Rights (\"the Commission\") on 16 October 1986, within the three-month period laid down in Article 32 § 1 and Article 47 (art. 32-1, art. 47) of the Convention',\n",
       "   'on': None,\n",
       "   'within': None}),\n",
       " ('The case was referred to the Court by the European Commission of Human Rights (\"the Commission\") on 14 December 1989, within the three-month period laid down in Article 32 § 1 and Article 47 (art. 32-1, art. 47) of the Convention.',\n",
       "  {'courtname': '',\n",
       "   'by': 'the European Commission of Human Rights (\"the Commission\") on 14 December 1989, within the three-month period laid down in Article 32 § 1 and Article 47 (art. 32-1, art. 47) of the Convention',\n",
       "   'on': None,\n",
       "   'within': None})]"
      ]
     },
     "execution_count": 42,
     "metadata": {},
     "output_type": "execute_result"
    }
   ],
   "source": [
    "matched[10:20]"
   ]
  },
  {
   "cell_type": "code",
   "execution_count": null,
   "metadata": {
    "gradient": {
     "editing": false,
     "id": "6b2dec3c-d16b-4e95-9305-2e9298cf44e7",
     "kernelId": "50dd65e7-80a8-4cac-97fb-16e9965fc0d6"
    }
   },
   "outputs": [],
   "source": [
    "s = \"ab\""
   ]
  },
  {
   "cell_type": "code",
   "execution_count": null,
   "metadata": {
    "gradient": {
     "editing": false,
     "id": "022272cc-52e4-445a-b543-a4f277dbf94f",
     "kernelId": "50dd65e7-80a8-4cac-97fb-16e9965fc0d6"
    }
   },
   "outputs": [
    {
     "data": {
      "text/plain": [
       "'ba'"
      ]
     },
     "execution_count": 205,
     "metadata": {},
     "output_type": "execute_result"
    }
   ],
   "source": [
    "s[::-1]"
   ]
  },
  {
   "cell_type": "code",
   "execution_count": null,
   "metadata": {
    "gradient": {
     "editing": false,
     "id": "84ca98a8-6470-4b45-947c-e417d2d89816",
     "kernelId": "50dd65e7-80a8-4cac-97fb-16e9965fc0d6"
    }
   },
   "outputs": [
    {
     "name": "stdout",
     "output_type": "stream",
     "text": [
      "227141\n"
     ]
    }
   ],
   "source": [
    "cases = echr.get_data_as_sentences()\n",
    "words = \"[(?:\\w|,|.|\\\"|\\(|\\)))* ]*\"\n",
    "\n",
    "passive_voice_regex = re.compile(\n",
    "    \"\".join([\n",
    "        \"{words} (?:(?:was)|(?:were)) (\\w*d) {words}.\"\n",
    "    ])\n",
    "    .format(words=words)\n",
    ")\n",
    "\n",
    "passive_voice_matches = []\n",
    "verbs = dict()\n",
    "match_count = 0\n",
    "for case in cases:\n",
    "    for sentence in case:\n",
    "        m = passive_voice_regex.match(sentence)\n",
    "        if m is not None:\n",
    "            passive_voice_matches.append((sentence, m.groups()))\n",
    "            match_count += 1\n",
    "            verb = m.groups()[0]\n",
    "            if verb in verbs:\n",
    "                verbs[verb] += 1\n",
    "            else:\n",
    "                verbs[verb] = 1\n",
    "print(match_count)"
   ]
  },
  {
   "cell_type": "code",
   "execution_count": null,
   "metadata": {
    "gradient": {
     "editing": false,
     "id": "68234c38-4cff-4b0b-b315-0749d05f5318",
     "kernelId": "50dd65e7-80a8-4cac-97fb-16e9965fc0d6"
    }
   },
   "outputs": [
    {
     "data": {
      "text/plain": [
       "[('represented', 12647),\n",
       " ('held', 4844),\n",
       " ('arrested', 4051),\n",
       " ('detained', 3678),\n",
       " ('communicated', 3614),\n",
       " ('transferred', 3428),\n",
       " ('based', 3413),\n",
       " ('informed', 3321),\n",
       " ('found', 3286),\n",
       " ('examined', 3259),\n",
       " ('granted', 3012),\n",
       " ('adjourned', 2950),\n",
       " ('required', 2770),\n",
       " ('entitled', 2743),\n",
       " ('served', 2688)]"
      ]
     },
     "execution_count": 16,
     "metadata": {},
     "output_type": "execute_result"
    }
   ],
   "source": [
    "sorted(verbs.items(), key = lambda x: x[1], reverse=True)[:15]"
   ]
  },
  {
   "cell_type": "code",
   "execution_count": null,
   "metadata": {
    "gradient": {
     "editing": false,
     "id": "693ae5d8-1d26-4ff5-ac6b-38cf00515239",
     "kernelId": "50dd65e7-80a8-4cac-97fb-16e9965fc0d6"
    }
   },
   "outputs": [
    {
     "name": "stderr",
     "output_type": "stream",
     "text": [
      "[nltk_data] Downloading package punkt to /root/nltk_data...\n",
      "[nltk_data]   Package punkt is already up-to-date!\n"
     ]
    }
   ],
   "source": [
    "cases = echr.get_data_as_sentences()\n",
    "from nltk.tokenize import word_tokenize\n",
    "short_sentences = []\n",
    "\n",
    "for case in cases:\n",
    "    for sentence in case:\n",
    "        words = word_tokenize(sentence)\n",
    "        for p in [\".\", \":\", \";\"]:\n",
    "            if p in words:\n",
    "                words.remove(p)\n",
    "        if 1 < len(words) < 6:\n",
    "            short_sentences.append(words)"
   ]
  },
  {
   "cell_type": "code",
   "execution_count": null,
   "metadata": {
    "gradient": {
     "editing": false,
     "id": "f7686049-61ab-43d7-ae89-d6c5a43126f7",
     "kernelId": "50dd65e7-80a8-4cac-97fb-16e9965fc0d6"
    }
   },
   "outputs": [
    {
     "ename": "NameError",
     "evalue": "name 'short_sentences' is not defined",
     "output_type": "error",
     "traceback": [
      "\u001b[0;31m---------------------------------------------------------------------------\u001b[0m",
      "\u001b[0;31mNameError\u001b[0m                                 Traceback (most recent call last)",
      "\u001b[0;32m<ipython-input-11-fce66faa15c3>\u001b[0m in \u001b[0;36m<module>\u001b[0;34m\u001b[0m\n\u001b[0;32m----> 1\u001b[0;31m \u001b[0mlen\u001b[0m\u001b[0;34m(\u001b[0m\u001b[0mshort_sentences\u001b[0m\u001b[0;34m)\u001b[0m\u001b[0;34m\u001b[0m\u001b[0;34m\u001b[0m\u001b[0m\n\u001b[0m",
      "\u001b[0;31mNameError\u001b[0m: name 'short_sentences' is not defined"
     ]
    }
   ],
   "source": [
    "len(short_sentences)"
   ]
  },
  {
   "cell_type": "code",
   "execution_count": null,
   "metadata": {
    "gradient": {
     "editing": false,
     "id": "a9b7d17a-a978-4b97-bdda-375805cd3870",
     "kernelId": "50dd65e7-80a8-4cac-97fb-16e9965fc0d6"
    }
   },
   "outputs": [
    {
     "data": {
      "text/plain": [
       "[['1', '.'], ['2', '.'], ['3', '.'], ['4', '.'], ['THE', 'FACTS']]"
      ]
     },
     "execution_count": 31,
     "metadata": {},
     "output_type": "execute_result"
    }
   ],
   "source": [
    "short_sentences[:5]"
   ]
  },
  {
   "cell_type": "code",
   "execution_count": null,
   "metadata": {
    "gradient": {
     "editing": false,
     "id": "9e9a8698-db59-4d88-935a-a1c03ead7a8a",
     "kernelId": "50dd65e7-80a8-4cac-97fb-16e9965fc0d6"
    }
   },
   "outputs": [],
   "source": [
    "short_sentences_filtered = [sentence for sentence in short_sentences if len(sentence) > 2]"
   ]
  },
  {
   "cell_type": "code",
   "execution_count": null,
   "metadata": {
    "gradient": {
     "editing": false,
     "id": "da727e1c-0a91-4cbc-8dd5-9c9cdaf4f3a0",
     "kernelId": "50dd65e7-80a8-4cac-97fb-16e9965fc0d6"
    }
   },
   "outputs": [],
   "source": [
    "short_sentences_filtered2 = []\n",
    "for sentence in short_sentences_filtered[:100000]:\n",
    "    doc = nlp(\" \".join(sentence))\n",
    "    if any([token.pos_ == \"VERB\" for token in doc]):\n",
    "        short_sentences_filtered2.append(sentence)"
   ]
  },
  {
   "cell_type": "code",
   "execution_count": null,
   "metadata": {
    "gradient": {
     "editing": false,
     "id": "ce79da7b-b8bd-440d-97b3-9df425420750",
     "kernelId": "50dd65e7-80a8-4cac-97fb-16e9965fc0d6"
    }
   },
   "outputs": [],
   "source": [
    "s = set([\" \".join(sentence) for sentence in short_sentences_filtered2])"
   ]
  },
  {
   "cell_type": "code",
   "execution_count": null,
   "metadata": {
    "gradient": {
     "editing": false,
     "id": "dd4c8e03-0108-44d5-a3bd-faa8effe0ff3",
     "kernelId": "50dd65e7-80a8-4cac-97fb-16e9965fc0d6"
    }
   },
   "outputs": [
    {
     "data": {
      "text/plain": [
       "['Principles established by the court',\n",
       " 'Circulus in demonstrando !',\n",
       " 'The relevant parts read :',\n",
       " 'Paget-Lewis is convicted of manslaughter',\n",
       " 'While there Ģ.Č .',\n",
       " 'held periodic surgeries . ”',\n",
       " 'It consequently rejects them .',\n",
       " 'turned to Mr V.V .',\n",
       " 'As regards Ms Slavojka Kandić',\n",
       " 'No reply ensued .',\n",
       " 'and remitted the case .',\n",
       " '19 measuring 23.6 sq .',\n",
       " 'Bringing of an action',\n",
       " 'It thus rules accordingly .',\n",
       " 'We immediately paid .',\n",
       " 'The involvement includes :',\n",
       " '2943/6 were still pending .',\n",
       " 'And the pressure continued .',\n",
       " 'Nedir bu ilke ?',\n",
       " 'd. Renewed proceedings before the']"
      ]
     },
     "execution_count": 67,
     "metadata": {},
     "output_type": "execute_result"
    }
   ],
   "source": [
    "list(s)[20:40]"
   ]
  },
  {
   "cell_type": "code",
   "execution_count": null,
   "metadata": {
    "gradient": {
     "editing": false,
     "id": "5be1597d-825d-4526-afeb-f435f2fe9a79",
     "kernelId": "50dd65e7-80a8-4cac-97fb-16e9965fc0d6"
    }
   },
   "outputs": [
    {
     "name": "stdout",
     "output_type": "stream",
     "text": [
      "Requirement already satisfied: spacy in /usr/local/lib/python3.6/dist-packages (3.2.2)\n",
      "Requirement already satisfied: catalogue<2.1.0,>=2.0.6 in /usr/local/lib/python3.6/dist-packages (from spacy) (2.0.6)\n",
      "Requirement already satisfied: pydantic!=1.8,!=1.8.1,<1.9.0,>=1.7.4 in /usr/local/lib/python3.6/dist-packages (from spacy) (1.8.2)\n",
      "Requirement already satisfied: setuptools in /usr/local/lib/python3.6/dist-packages (from spacy) (59.6.0)\n",
      "Requirement already satisfied: tqdm<5.0.0,>=4.38.0 in /usr/local/lib/python3.6/dist-packages (from spacy) (4.51.0)\n",
      "Requirement already satisfied: packaging>=20.0 in /usr/local/lib/python3.6/dist-packages (from spacy) (20.4)\n",
      "Requirement already satisfied: srsly<3.0.0,>=2.4.1 in /usr/local/lib/python3.6/dist-packages (from spacy) (2.4.2)\n",
      "Requirement already satisfied: wasabi<1.1.0,>=0.8.1 in /usr/local/lib/python3.6/dist-packages (from spacy) (0.9.0)\n",
      "Requirement already satisfied: numpy>=1.15.0 in /usr/local/lib/python3.6/dist-packages (from spacy) (1.18.5)\n",
      "Requirement already satisfied: typer<0.5.0,>=0.3.0 in /usr/local/lib/python3.6/dist-packages (from spacy) (0.4.0)\n",
      "Requirement already satisfied: cymem<2.1.0,>=2.0.2 in /usr/local/lib/python3.6/dist-packages (from spacy) (2.0.6)\n",
      "Requirement already satisfied: langcodes<4.0.0,>=3.2.0 in /usr/local/lib/python3.6/dist-packages (from spacy) (3.3.0)\n",
      "Requirement already satisfied: preshed<3.1.0,>=3.0.2 in /usr/local/lib/python3.6/dist-packages (from spacy) (3.0.6)\n",
      "Requirement already satisfied: thinc<8.1.0,>=8.0.12 in /usr/local/lib/python3.6/dist-packages (from spacy) (8.0.13)\n",
      "Requirement already satisfied: pathy>=0.3.5 in /usr/local/lib/python3.6/dist-packages (from spacy) (0.6.1)\n",
      "Requirement already satisfied: blis<0.8.0,>=0.4.0 in /usr/local/lib/python3.6/dist-packages (from spacy) (0.7.5)\n",
      "Requirement already satisfied: spacy-loggers<2.0.0,>=1.0.0 in /usr/local/lib/python3.6/dist-packages (from spacy) (1.0.1)\n",
      "Requirement already satisfied: typing-extensions<4.0.0.0,>=3.7.4 in /usr/local/lib/python3.6/dist-packages (from spacy) (3.10.0.2)\n",
      "Requirement already satisfied: jinja2 in /usr/local/lib/python3.6/dist-packages (from spacy) (2.11.2)\n",
      "Requirement already satisfied: requests<3.0.0,>=2.13.0 in /usr/local/lib/python3.6/dist-packages (from spacy) (2.25.0)\n",
      "Requirement already satisfied: murmurhash<1.1.0,>=0.28.0 in /usr/local/lib/python3.6/dist-packages (from spacy) (1.0.6)\n",
      "Requirement already satisfied: spacy-legacy<3.1.0,>=3.0.8 in /usr/local/lib/python3.6/dist-packages (from spacy) (3.0.8)\n",
      "Requirement already satisfied: zipp>=0.5 in /usr/local/lib/python3.6/dist-packages (from catalogue<2.1.0,>=2.0.6->spacy) (3.4.0)\n",
      "Requirement already satisfied: six in /usr/local/lib/python3.6/dist-packages (from packaging>=20.0->spacy) (1.15.0)\n",
      "Requirement already satisfied: pyparsing>=2.0.2 in /usr/local/lib/python3.6/dist-packages (from packaging>=20.0->spacy) (2.4.7)\n",
      "Requirement already satisfied: dataclasses<1.0,>=0.6 in /usr/local/lib/python3.6/dist-packages (from pathy>=0.3.5->spacy) (0.8)\n",
      "Requirement already satisfied: smart-open<6.0.0,>=5.0.0 in /usr/local/lib/python3.6/dist-packages (from pathy>=0.3.5->spacy) (5.2.1)\n",
      "Requirement already satisfied: urllib3<1.27,>=1.21.1 in /usr/local/lib/python3.6/dist-packages (from requests<3.0.0,>=2.13.0->spacy) (1.26.2)\n",
      "Requirement already satisfied: certifi>=2017.4.17 in /usr/local/lib/python3.6/dist-packages (from requests<3.0.0,>=2.13.0->spacy) (2020.11.8)\n",
      "Requirement already satisfied: chardet<4,>=3.0.2 in /usr/local/lib/python3.6/dist-packages (from requests<3.0.0,>=2.13.0->spacy) (3.0.4)\n",
      "Requirement already satisfied: idna<3,>=2.5 in /usr/lib/python3/dist-packages (from requests<3.0.0,>=2.13.0->spacy) (2.6)\n",
      "Requirement already satisfied: contextvars<3,>=2.4 in /usr/local/lib/python3.6/dist-packages (from thinc<8.1.0,>=8.0.12->spacy) (2.4)\n",
      "Requirement already satisfied: click<9.0.0,>=7.1.1 in /usr/local/lib/python3.6/dist-packages (from typer<0.5.0,>=0.3.0->spacy) (7.1.2)\n",
      "Requirement already satisfied: MarkupSafe>=0.23 in /usr/local/lib/python3.6/dist-packages (from jinja2->spacy) (1.1.1)\n",
      "Requirement already satisfied: immutables>=0.9 in /usr/local/lib/python3.6/dist-packages (from contextvars<3,>=2.4->thinc<8.1.0,>=8.0.12->spacy) (0.16)\n",
      "\u001b[33mWARNING: Running pip as the 'root' user can result in broken permissions and conflicting behaviour with the system package manager. It is recommended to use a virtual environment instead: https://pip.pypa.io/warnings/venv\u001b[0m\n",
      "/usr/bin/python: No module named spacy\n"
     ]
    }
   ],
   "source": [
    "!pip3 install spacy\n",
    "!export LC_ALL=C.UTF-8\n",
    "!export LANG=C.UTF-8\n",
    "!python -m spacy download en_core_web_sm"
   ]
  },
  {
   "cell_type": "code",
   "execution_count": null,
   "metadata": {
    "gradient": {
     "editing": false,
     "id": "992a3fee-8b45-4b08-84af-b489aa007bfa",
     "kernelId": "50dd65e7-80a8-4cac-97fb-16e9965fc0d6"
    }
   },
   "outputs": [],
   "source": [
    "import spacy\n",
    "nlp = spacy.load(\"en_core_web_sm\")"
   ]
  },
  {
   "cell_type": "code",
   "execution_count": null,
   "metadata": {
    "gradient": {
     "editing": false,
     "id": "67e364bd-b678-4941-b45c-91c7ce5e245a",
     "kernelId": "50dd65e7-80a8-4cac-97fb-16e9965fc0d6"
    }
   },
   "outputs": [
    {
     "ename": "ValueError",
     "evalue": "list.remove(x): x not in list",
     "output_type": "error",
     "traceback": [
      "\u001b[0;31m---------------------------------------------------------------------------\u001b[0m",
      "\u001b[0;31mValueError\u001b[0m                                Traceback (most recent call last)",
      "\u001b[0;32m<ipython-input-9-6146dd4f56a9>\u001b[0m in \u001b[0;36m<module>\u001b[0;34m\u001b[0m\n\u001b[1;32m      1\u001b[0m \u001b[0mx\u001b[0m \u001b[0;34m=\u001b[0m \u001b[0;34m[\u001b[0m\u001b[0;34m\".\"\u001b[0m\u001b[0;34m,\u001b[0m \u001b[0;34m\"basdas\"\u001b[0m\u001b[0;34m,\u001b[0m \u001b[0;34m\"adsas\"\u001b[0m\u001b[0;34m]\u001b[0m\u001b[0;34m\u001b[0m\u001b[0;34m\u001b[0m\u001b[0m\n\u001b[0;32m----> 2\u001b[0;31m \u001b[0mx\u001b[0m\u001b[0;34m.\u001b[0m\u001b[0mremove\u001b[0m\u001b[0;34m(\u001b[0m\u001b[0;34m\",\"\u001b[0m\u001b[0;34m)\u001b[0m\u001b[0;34m\u001b[0m\u001b[0;34m\u001b[0m\u001b[0m\n\u001b[0m\u001b[1;32m      3\u001b[0m \u001b[0mx\u001b[0m\u001b[0;34m\u001b[0m\u001b[0;34m\u001b[0m\u001b[0m\n",
      "\u001b[0;31mValueError\u001b[0m: list.remove(x): x not in list"
     ]
    }
   ],
   "source": [
    "x = [\".\", \"basdas\", \"adsas\"]\n",
    "x.remove(\",\")\n",
    "x"
   ]
  },
  {
   "cell_type": "code",
   "execution_count": null,
   "metadata": {
    "gradient": {
     "editing": false,
     "id": "6a2dc26e-aac4-4bfa-905e-a33871af80bb",
     "kernelId": "50dd65e7-80a8-4cac-97fb-16e9965fc0d6"
    }
   },
   "outputs": [],
   "source": [
    "cases = echr.get_data_as_texts()\n",
    "holds_cases = []\n",
    "for case in cases:\n",
    "    if \"for these reasons\" in case.lower() and \"holds that\" in case.lower():\n",
    "        holds_cases.append(case.replace('\\xa0', ' '))\n",
    "\n",
    "holds_sentences = []\n",
    "for holds_case in holds_cases:\n",
    "    case = holds_case.lower().replace(\"\\n\", \" \")\n",
    "    sentences = echr.tokenizer.tokenize(case)\n",
    "    for sentence in sentences:\n",
    "        if \"for these reasons\" in sentence or \"holds that\" in sentence:\n",
    "            holds_sentences.append(sentence)"
   ]
  },
  {
   "cell_type": "code",
   "execution_count": null,
   "metadata": {
    "gradient": {
     "id": "16cc6f12-2ca0-4f4d-bc53-2ae125fece98",
     "kernelId": "50dd65e7-80a8-4cac-97fb-16e9965fc0d6"
    }
   },
   "outputs": [],
   "source": [
    "count = 0\n",
    "for case in cases:\n",
    "    if \"for these reasons\" not in case.lower():\n",
    "        print(case)"
   ]
  },
  {
   "cell_type": "code",
   "execution_count": null,
   "metadata": {
    "gradient": {
     "id": "9395de1b-aec3-481e-a2ce-eb328b7b8080",
     "kernelId": "50dd65e7-80a8-4cac-97fb-16e9965fc0d6"
    }
   },
   "outputs": [],
   "source": [
    "len(cases)"
   ]
  },
  {
   "cell_type": "code",
   "execution_count": null,
   "metadata": {
    "gradient": {
     "id": "ff0f50ca-e504-427c-9ba6-22af684bc37c",
     "kernelId": "50dd65e7-80a8-4cac-97fb-16e9965fc0d6"
    }
   },
   "outputs": [],
   "source": [
    "declares_the_application = set()\n",
    "declares_the_application_count = 0\n",
    "for sentence in holds_sentences:\n",
    "    s = re.search(\"(declares the application inadmissible.*)\", sentence)\n",
    "    if s:\n",
    "        declares_the_application.add(s.groups()[0])\n",
    "        declares_the_application_count += 1"
   ]
  }
 ],
 "metadata": {
  "kernelspec": {
   "display_name": "Python 3",
   "language": "python",
   "name": "python3"
  },
  "language_info": {
   "codemirror_mode": {
    "name": "ipython",
    "version": 3
   },
   "file_extension": ".py",
   "mimetype": "text/x-python",
   "name": "python",
   "nbconvert_exporter": "python",
   "pygments_lexer": "ipython3",
   "version": "3.6.9"
  }
 },
 "nbformat": 4,
 "nbformat_minor": 4
}
